{
 "cells": [
  {
   "cell_type": "code",
   "execution_count": null,
   "metadata": {
    "id": "LLFfDw7YaIQ9"
   },
   "outputs": [],
   "source": [
    "from selenium import webdriver  \n",
    "from selenium.webdriver import Chrome\n",
    "from selenium.webdriver.common.keys import Keys\n",
    "from selenium import webdriver  \n",
    "from selenium.webdriver.support.ui import WebDriverWait\n",
    "from selenium.webdriver.support import expected_conditions as EC\n",
    "from selenium.common.exceptions import TimeoutException\n",
    "from selenium.common.exceptions import StaleElementReferenceException\n",
    "from selenium.common.exceptions import NoSuchElementException\n",
    "from selenium.common.exceptions import ElementClickInterceptedException\n",
    "from selenium.webdriver.chrome.options import Options  \n",
    "from selenium.webdriver.common.by import By\n",
    "import time \n",
    "import numpy as np\n",
    "import pandas as pd"
   ]
  },
  {
   "cell_type": "code",
   "execution_count": null,
   "metadata": {
    "id": "dAN9vHHYaIRg"
   },
   "outputs": [],
   "source": [
    "# Il link per le ricerche segue sempre lo stesso schema, per tanto abbiamo deciso di costruirlo manualmente attraverso la somma di stringhe \n",
    "# Questo ci permetterà di fare un ciclo per lo scraping\n",
    "\n",
    "link1 = 'https://www.nytimes.com/search?dropmab=true&endDate='\n",
    "anno = 2020\n",
    "mese = 7\n",
    "giorno = 1\n",
    "ausilio = 0\n",
    "link2 = '&query=&sort=best&startDate='\n",
    "link3 = '&types=article'\n",
    "\n"
   ]
  },
  {
   "cell_type": "code",
   "execution_count": null,
   "metadata": {
    "id": "KUmjeGqSaIR6"
   },
   "outputs": [],
   "source": [
    "# Impostazioni scraping\n",
    "\n",
    "options = webdriver.ChromeOptions()\n",
    "options.add_argument('headless')\n",
    "options.add_experimental_option(\"useAutomationExtension\", False)\n",
    "options.add_experimental_option(\"excludeSwitches\", [\"enable-automation\"])\n",
    "\n",
    "# Imposta la grandezza della pagina\n",
    "options.add_argument('window-size=1200x600')\n",
    "\n",
    "# Lista dove salvare tutti i titoli\n",
    "titles = []\n",
    "# Lista dove salvare tutte le keywords\n",
    "keywords = []"
   ]
  },
  {
   "cell_type": "code",
   "execution_count": null,
   "metadata": {
    "id": "8cjm1IBUaISC"
   },
   "outputs": [],
   "source": [
    "# Scraping di una pagina\n",
    "def scraping (url):\n",
    "    #Inizializzo il driver\n",
    "    \n",
    "    # PER WINDOWS: Cambiare webdriver.Chrome in webdriver.Chrome(chrome_options=options)\n",
    "    # PER MAC: Cambiare webdriver.Chrome in webdriver.Chrome(executable_path='/Users/utente/chromedriver')\n",
    "    driver = webdriver.Chrome(chrome_options=options)\n",
    "    driver.get(url)\n",
    "    \n",
    "    # Premo il pulsante \"accetta\" per i cookies, o non riusciremmo ad andare avanti\n",
    "    # Sospende la navigazione\n",
    "    time.sleep(2)\n",
    "    # Preme accetta dei cookies\n",
    "    cookies = driver.find_element_by_xpath('//button[@class=\"css-1p91x5t\"]')\n",
    "    cookies.click()\n",
    "    \n",
    "    # Ciclo che clicca il pulsante SHOW MORE \n",
    "    while True:\n",
    "    \n",
    "        try:\n",
    "            element = driver.find_element_by_xpath('//button[@data-testid=\"search-show-more-button\"]')\n",
    "            element.click()\n",
    "            time.sleep(3)\n",
    "        except TimeoutException:\n",
    "            break\n",
    "        except StaleElementReferenceException:\n",
    "            break\n",
    "        except NoSuchElementException:\n",
    "            break\n",
    "        except ElementClickInterceptedException:\n",
    "            break\n",
    "        \n",
    "    # Creo una lista con tutti gli articoli di questa pagina    \n",
    "    listArticoli = driver.find_elements_by_xpath('//li[@class=\"css-1l4w6pd\"]')\n",
    "    \n",
    "    for articolo in listArticoli :\n",
    "        key = []\n",
    "        link = articolo.find_element_by_tag_name('a')\n",
    "        main_window = driver.current_window_handle\n",
    "        # Funzione che simula i comandi da tastiera in modo da aprire gli articoli in un'altra pagina\n",
    "        # PER WINDOWS: Cambiare Keys.COMMAND in Keys.CONTROL \n",
    "        # PER MAC: Cambiare Keys.CONTROL in Keys.COMMAND\n",
    "        link.send_keys(Keys.CONTROL + Keys.RETURN)\n",
    "        # Cambia la finestra del driver\n",
    "        driver.switch_to.window(driver.window_handles[1])\n",
    "    \n",
    "        \n",
    "    \n",
    "        \n",
    "        tags = driver.find_elements_by_xpath('//meta[@property=\"article:tag\"]')\n",
    "        # Mi assicuro che siano stati trovati dei tag\n",
    "        if tags :\n",
    "            \n",
    "            # Salva il titolo dell'articolo solo nel caso in cui l'articolo contenga tag\n",
    "            titoli = driver.find_element_by_xpath('//meta[@property=\"twitter:title\"]')\n",
    "            title = titoli.get_attribute('content')\n",
    "            titles.append(title)\n",
    "            \n",
    "            for tag in tags:\n",
    "                keyword = tag.get_attribute('content')\n",
    "                key.append(keyword)\n",
    "                tupla = tuple(key)\n",
    "    \n",
    "            keywords.append(tupla)\n",
    "        \n",
    "    \n",
    "\n",
    "        # Chiude l'articolo   \n",
    "        driver.close()\n",
    "        # Chiude la pagina principale\n",
    "        driver.switch_to_window(main_window)\n",
    "        \n",
    "    driver.close()"
   ]
  },
  {
   "cell_type": "code",
   "execution_count": null,
   "metadata": {
    "id": "roch_bN_aISJ",
    "outputId": "46858230-ad41-449f-a236-74a856000195"
   },
   "outputs": [
    {
     "name": "stderr",
     "output_type": "stream",
     "text": [
      "c:\\users\\gdm17\\appdata\\local\\programs\\python\\python37\\lib\\site-packages\\ipykernel_launcher.py:7: DeprecationWarning: use options instead of chrome_options\n",
      "  import sys\n",
      "c:\\users\\gdm17\\appdata\\local\\programs\\python\\python37\\lib\\site-packages\\ipykernel_launcher.py:72: DeprecationWarning: use driver.switch_to.window instead\n"
     ]
    }
   ],
   "source": [
    "# Per questioni di tempo, abbiamo fatto lo scraping solo dei mesi: luglio, agosto, settembre, ottobre\n",
    "# Il codice però è costruito per effettuarlo da gennaio fino a novembre\n",
    "\n",
    "# Utilizzo i mesi per il ciclo. \n",
    "while mese < 11:\n",
    "    # Serie di if per creare man mano il link\n",
    "    if (mese//10 == 0 and giorno < 10): \n",
    "        link= link1 + str(anno) + str(ausilio) + str(mese) + str(ausilio) + str(giorno) + link2 + str(anno) + str(ausilio) + str(mese) + str(ausilio) + str(giorno) + link3\n",
    "    if (mese//10 == 0 and giorno >= 10):\n",
    "        link= link1 + str(anno) + str(ausilio) + str(mese)  + str(giorno) + link2 + str(anno) + str(ausilio) + str(mese) + str(giorno) + link3\n",
    "    if  (mese//10 == 1 and giorno < 10):\n",
    "        link= link1 + str(anno) + str(mese) + str(ausilio) + str(giorno) + link2 + str(anno) + str(mese) + str(ausilio) + str(giorno) + link3\n",
    "    if  (mese//10 == 1 and giorno >= 10):\n",
    "        link= link1 + str(anno) + str(mese) + str(giorno) + link2 + str(anno) + str(mese) + str(giorno) + link3\n",
    "    \n",
    "    scraping(link)\n",
    "    \n",
    "    if (mese == 4 or mese == 6 or mese == 9):\n",
    "        if (giorno <= 29):\n",
    "            giorno += 1\n",
    "        else:\n",
    "            mese += 1\n",
    "            giorno = 1\n",
    "    elif (mese == 2):\n",
    "        # Febbraio è stato bisestile quest'anno\n",
    "        if (giorno <= 28):\n",
    "            giorno += 1\n",
    "        else:\n",
    "            mese +=1\n",
    "            giorno = 1\n",
    "    else:\n",
    "        if (giorno <= 30):\n",
    "            giorno += 1\n",
    "        else:\n",
    "            mese +=1\n",
    "            giorno = 1\n"
   ]
  },
  {
   "cell_type": "code",
   "execution_count": null,
   "metadata": {
    "id": "kmkwvONFaIST"
   },
   "outputs": [],
   "source": [
    "# Zip iterator contiene coppie di elementi delle due liste \n",
    "# Dict() converte zip iterator in un dizionario con coppie chiave-valore\n",
    "\n",
    "zip_iterator = zip(titles, keywords)\n",
    "my_dictionary = dict(zip_iterator)\n",
    "\n",
    "# Creo il mio dataset\n",
    "df = pd.DataFrame(list(my_dictionary.items()),columns = ['Titles','Keywords']) \n",
    "\n",
    "# Creo il CSV\n",
    "df.to_csv(r'C:\\Users\\Utente\\Desktop\\datasetArticoliKeywords.csv', encoding='utf-8-sig', index = False)"
   ]
  },
  {
   "cell_type": "code",
   "execution_count": null,
   "metadata": {
    "id": "1VS66cSUaISb"
   },
   "outputs": [],
   "source": [
    "columns = [\"A\", \"B\"]\n",
    "dfN2N = pd.DataFrame (columns= columns)"
   ]
  },
  {
   "cell_type": "code",
   "execution_count": null,
   "metadata": {
    "id": "j_rjFmSoaISh"
   },
   "outputs": [],
   "source": [
    "counter = 0\n",
    "for n in df['Keywords']:\n",
    "    for c in n:\n",
    "        for z in range (n.index(c)+1,len(n)):\n",
    "            dfN2N.at[counter,'A'] = c\n",
    "            dfN2N.at[counter,'B'] = n[z]\n",
    "            counter += 1"
   ]
  },
  {
   "cell_type": "code",
   "execution_count": null,
   "metadata": {
    "id": "vGgyFGKFaISl"
   },
   "outputs": [],
   "source": [
    "# Usiamo una semplice lista per creare il vocabolario\n",
    "# VOCABOLARIO: contiene tutte le parole diverse tra loro\n",
    "\n",
    "vocabolario = []\n",
    "for i in keywords:\n",
    "    for n in i:\n",
    "        vocabolario.append(n)\n",
    "        \n",
    "vocabolario = list(set(vocabolario))"
   ]
  },
  {
   "cell_type": "code",
   "execution_count": null,
   "metadata": {
    "id": "KvYfVRt-aISs"
   },
   "outputs": [],
   "source": [
    "numericalKeywords = []\n",
    "count = 0\n",
    "for i in vocabolario:\n",
    "    numericalKeywords.append(count)\n",
    "    count += 1\n",
    "\n",
    "    "
   ]
  },
  {
   "cell_type": "code",
   "execution_count": null,
   "metadata": {
    "id": "x6lvC3OqaISz"
   },
   "outputs": [],
   "source": [
    "zip_iterator = zip(vocabolario, numericalKeywords)\n",
    "my_dictionary = dict(zip_iterator)"
   ]
  },
  {
   "cell_type": "code",
   "execution_count": null,
   "metadata": {
    "id": "QxfRAbl3aIS9"
   },
   "outputs": [],
   "source": [
    "# Stampa le chiavi corrispondenti alle parole in base al mio vocabolario\n",
    "Keys_id = []\n",
    "\n",
    "for lista in df['Keywords']:\n",
    "    new = []\n",
    "    for elm in lista:\n",
    "        for key,value in my_dictionary.items():\n",
    "            if (elm == key):\n",
    "                new.append(value)\n",
    "                tupla = tuple(new)\n",
    "                \n",
    "    Keys_id.append(tupla)"
   ]
  },
  {
   "cell_type": "code",
   "execution_count": null,
   "metadata": {
    "id": "hRJIziRSaITD"
   },
   "outputs": [],
   "source": [
    "df['Keys_Id'] = Keys_id\n",
    "df.to_csv(r'C:\\Users\\Utente\\Desktop\\DatasetKeywords-ID.csv', index = False)"
   ]
  },
  {
   "cell_type": "code",
   "execution_count": null,
   "metadata": {
    "id": "9YDJ2TAiaITM"
   },
   "outputs": [],
   "source": [
    "columns = [\"A\", \"B\"]\n",
    "dfN2NN = pd.DataFrame (columns= columns)"
   ]
  },
  {
   "cell_type": "code",
   "execution_count": null,
   "metadata": {
    "id": "RH1VnRTPaITR"
   },
   "outputs": [],
   "source": [
    "counter = 0\n",
    "for n in df['Keys_Id']:\n",
    "    for c in n:\n",
    "        for z in range (n.index(c)+1,len(n)):\n",
    "            dfN2NN.at[counter,'A'] = c\n",
    "            dfN2NN.at[counter,'B'] = n[z]\n",
    "            counter += 1"
   ]
  },
  {
   "cell_type": "code",
   "execution_count": null,
   "metadata": {
    "id": "L8VIvR8raITa"
   },
   "outputs": [],
   "source": [
    "# Trasformiamo le coppie in tuple\n",
    "nuovaLista = []\n",
    "\n",
    "l=len(dfN2NN['A'])\n",
    "\n",
    "# Per i (indice) fino a lunghezza massima della lista\n",
    "for i in range(l):\n",
    "        coppie = []\n",
    "        # L'indice si aggiorna sia per A sia per B\n",
    "        coppie.append(dfN2NN['A'][i])\n",
    "        coppie.append(dfN2NN['B'][i])\n",
    "        tupla = tuple(coppie)\n",
    "        nuovaLista.append(tupla)"
   ]
  },
  {
   "cell_type": "code",
   "execution_count": null,
   "metadata": {
    "id": "sFk9iDGTaITe"
   },
   "outputs": [],
   "source": [
    "# Eseguo il calcolo delle frequenze\n",
    "frequenze = {}\n",
    "for item in nuovaLista:\n",
    "    if (item in frequenze):\n",
    "        frequenze[item] += 1\n",
    "    else:\n",
    "        frequenze[item] = 1\n",
    "                     "
   ]
  },
  {
   "cell_type": "code",
   "execution_count": null,
   "metadata": {
    "id": "-WxWDzVLaITj"
   },
   "outputs": [],
   "source": [
    "# Trasformo in una lista tutte le chiavi del vocabolario\n",
    "# Ottengo quindi una lista con tutti gli elementi DIVERSI tra loro\n",
    "\n",
    "y = list(frequenze.keys()) # Qui le ripetizioni vengono eliminate"
   ]
  },
  {
   "cell_type": "code",
   "execution_count": null,
   "metadata": {
    "id": "M2BFZ76eaITn"
   },
   "outputs": [],
   "source": [
    "rimuoviElementi = []   # Lista che conterrà gli elementi da rimuovere\n",
    "\n",
    "for i in y:\n",
    "    for c in range(y.index(i)+1,len(y)):\n",
    "            if (i[0] == y[c][1] and i[1] == y[c][0]):  \n",
    "                rimuoviElementi.append(i)          # Inserisce uno dei due elementi nella lista 'da rimuovere'\n",
    "                for key,value in frequenze.items():\n",
    "                    v = 0\n",
    "                    if(i == key):\n",
    "                        v = value\n",
    "                        for key2,value2 in frequenze.items():\n",
    "                            if(y[c] == key2): \n",
    "                                frequenze[key2] += v  # Somma il valore delle chiavi dei due elementi\n",
    "\n",
    "# In questo modo un elemento avrà la somma delle due frequenze mentre l'altro sarà inserito nella lista degli elementi da rimuovere"
   ]
  },
  {
   "cell_type": "code",
   "execution_count": null,
   "metadata": {
    "id": "cawyfRiQaITs"
   },
   "outputs": [],
   "source": [
    "# Prendo i 'valori' del dizionario\n",
    "\n",
    "listaFrequenze = []\n",
    "\n",
    "for elm in nuovaLista:                # Uso nuovaLista in cui ci sono tutti gli elementi\n",
    "    for key,value in frequenze.items():   # Uso il vocabolario frequenze in cui ho tutti i valori aggiornati\n",
    "        if (elm == key):\n",
    "            listaFrequenze.append(value)"
   ]
  },
  {
   "cell_type": "code",
   "execution_count": null,
   "metadata": {
    "id": "bOjhUdwraITv"
   },
   "outputs": [],
   "source": [
    "dfN2NN['Frequenze'] = listaFrequenze"
   ]
  },
  {
   "cell_type": "code",
   "execution_count": null,
   "metadata": {
    "id": "t3plHd8YaIT2"
   },
   "outputs": [],
   "source": [
    "dfQ = dfN2NN.copy()"
   ]
  },
  {
   "cell_type": "code",
   "execution_count": null,
   "metadata": {
    "id": "BAVJH0K6aIT8"
   },
   "outputs": [],
   "source": [
    "for n in rimuoviElementi:\n",
    "    for c in range (0, len(dfN2NN)):\n",
    "        if (n[0] == dfN2NN.at[c, 'A'] and n[1] == dfN2NN.at[c, 'B']):\n",
    "            dfQ.drop(c, inplace = True)"
   ]
  },
  {
   "cell_type": "code",
   "execution_count": null,
   "metadata": {
    "id": "mPtY1Wr-aIT_"
   },
   "outputs": [],
   "source": [
    "datasetP = dfQ.drop_duplicates()"
   ]
  },
  {
   "cell_type": "code",
   "execution_count": null,
   "metadata": {
    "id": "LWOEz-C0aIUE"
   },
   "outputs": [],
   "source": [
    "datasetF = datasetP.reset_index(drop = True)"
   ]
  },
  {
   "cell_type": "code",
   "execution_count": null,
   "metadata": {
    "id": "scggBMGPaIUI",
    "outputId": "2754d7f3-455a-44b4-9364-9cc12fb43e37"
   },
   "outputs": [
    {
     "data": {
      "text/html": [
       "<div>\n",
       "<style scoped>\n",
       "    .dataframe tbody tr th:only-of-type {\n",
       "        vertical-align: middle;\n",
       "    }\n",
       "\n",
       "    .dataframe tbody tr th {\n",
       "        vertical-align: top;\n",
       "    }\n",
       "\n",
       "    .dataframe thead th {\n",
       "        text-align: right;\n",
       "    }\n",
       "</style>\n",
       "<table border=\"1\" class=\"dataframe\">\n",
       "  <thead>\n",
       "    <tr style=\"text-align: right;\">\n",
       "      <th></th>\n",
       "      <th>A</th>\n",
       "      <th>B</th>\n",
       "      <th>Frequenze</th>\n",
       "    </tr>\n",
       "  </thead>\n",
       "  <tbody>\n",
       "    <tr>\n",
       "      <th>0</th>\n",
       "      <td>7364</td>\n",
       "      <td>3512</td>\n",
       "      <td>2</td>\n",
       "    </tr>\n",
       "    <tr>\n",
       "      <th>1</th>\n",
       "      <td>18570</td>\n",
       "      <td>3512</td>\n",
       "      <td>1</td>\n",
       "    </tr>\n",
       "    <tr>\n",
       "      <th>2</th>\n",
       "      <td>13728</td>\n",
       "      <td>7040</td>\n",
       "      <td>6</td>\n",
       "    </tr>\n",
       "    <tr>\n",
       "      <th>3</th>\n",
       "      <td>7040</td>\n",
       "      <td>1480</td>\n",
       "      <td>1</td>\n",
       "    </tr>\n",
       "    <tr>\n",
       "      <th>4</th>\n",
       "      <td>7040</td>\n",
       "      <td>4429</td>\n",
       "      <td>1</td>\n",
       "    </tr>\n",
       "  </tbody>\n",
       "</table>\n",
       "</div>"
      ],
      "text/plain": [
       "       A     B  Frequenze\n",
       "0   7364  3512          2\n",
       "1  18570  3512          1\n",
       "2  13728  7040          6\n",
       "3   7040  1480          1\n",
       "4   7040  4429          1"
      ]
     },
     "execution_count": 33,
     "metadata": {
      "tags": []
     },
     "output_type": "execute_result"
    }
   ],
   "source": [
    "datasetF.head()"
   ]
  },
  {
   "cell_type": "code",
   "execution_count": null,
   "metadata": {
    "id": "w4eUyAbjaIUN"
   },
   "outputs": [],
   "source": [
    "datasetF.to_csv(r'C:\\Users\\Utente\\Desktop\\DatasetFinale.csv', index = False)"
   ]
  },
  {
   "cell_type": "code",
   "execution_count": null,
   "metadata": {
    "id": "IaGEgoFGaIUS"
   },
   "outputs": [],
   "source": []
  }
 ],
 "metadata": {
  "colab": {
   "collapsed_sections": [],
   "name": "ScrapingSNA.ipynb",
   "provenance": []
  },
  "kernelspec": {
   "display_name": "Python 3",
   "language": "python",
   "name": "python3"
  },
  "language_info": {
   "codemirror_mode": {
    "name": "ipython",
    "version": 3
   },
   "file_extension": ".py",
   "mimetype": "text/x-python",
   "name": "python",
   "nbconvert_exporter": "python",
   "pygments_lexer": "ipython3",
   "version": "3.7.6"
  }
 },
 "nbformat": 4,
 "nbformat_minor": 1
}
