{
 "cells": [
  {
   "cell_type": "code",
   "execution_count": 1,
   "metadata": {},
   "outputs": [],
   "source": [
    "import networkx as nx\n",
    "import numpy as np\n",
    "import pandas as pd\n",
    "import scipy as sp\n",
    "import matplotlib.pyplot as plt\n",
    "import seaborn as sns\n",
    "import tkinter\n",
    "import matplotlib\n",
    "import collections\n",
    "import itertools"
   ]
  },
  {
   "cell_type": "code",
   "execution_count": 2,
   "metadata": {},
   "outputs": [],
   "source": [
    "c1 = nx.read_graphml(r'C:\\Users\\utente\\OneDrive\\Desktop\\SnaProject\\modelliOpenProblem\\Cluster1.graphml')\n",
    "c2 = nx.read_graphml(r'C:\\Users\\utente\\OneDrive\\Desktop\\SnaProject\\modelliOpenProblem\\Cluster2.graphml')\n",
    "c3 = nx.read_graphml(r'C:\\Users\\utente\\OneDrive\\Desktop\\SnaProject\\modelliOpenProblem\\Cluster3.graphml')\n",
    "c4 = nx.read_graphml(r'C:\\Users\\utente\\OneDrive\\Desktop\\SnaProject\\modelliOpenProblem\\Cluster4.graphml')\n",
    "c5 = nx.read_graphml(r'C:\\Users\\utente\\OneDrive\\Desktop\\SnaProject\\modelliOpenProblem\\Cluster5.graphml')\n",
    "c6 = nx.read_graphml(r'C:\\Users\\utente\\OneDrive\\Desktop\\SnaProject\\modelliOpenProblem\\Cluster6.graphml')\n",
    "c7 = nx.read_graphml(r'C:\\Users\\utente\\OneDrive\\Desktop\\SnaProject\\modelliOpenProblem\\Cluster7.graphml')\n",
    "c8 = nx.read_graphml(r'C:\\Users\\utente\\OneDrive\\Desktop\\SnaProject\\modelliOpenProblem\\Cluster8.graphml')\n",
    "c9 = nx.read_graphml(r'C:\\Users\\utente\\OneDrive\\Desktop\\SnaProject\\modelliOpenProblem\\Cluster9.graphml')\n",
    "c10 = nx.read_graphml(r'C:\\Users\\utente\\OneDrive\\Desktop\\SnaProject\\modelliOpenProblem\\Cluster10.graphml')\n",
    "c11 = nx.read_graphml(r'C:\\Users\\utente\\OneDrive\\Desktop\\SnaProject\\modelliOpenProblem\\Cluster11.graphml')"
   ]
  },
  {
   "cell_type": "markdown",
   "metadata": {},
   "source": [
    "### Degree Centrality"
   ]
  },
  {
   "cell_type": "code",
   "execution_count": 5,
   "metadata": {},
   "outputs": [
    {
     "data": {
      "text/plain": [
       "[('1784', 2657),\n",
       " ('4235', 2189),\n",
       " ('9820', 1649),\n",
       " ('9666', 1513),\n",
       " ('3014', 1092),\n",
       " ('4861', 963),\n",
       " ('1504', 828),\n",
       " ('4416', 784),\n",
       " ('10211', 657),\n",
       " ('5029', 648)]"
      ]
     },
     "execution_count": 5,
     "metadata": {},
     "output_type": "execute_result"
    }
   ],
   "source": [
    "c1_degree_sequence = [(n, d)  for n, d in c1.degree()]\n",
    "c1_degree_sequence.sort(key = lambda tup: tup[1], reverse = True)\n",
    "c1_degree_list = [i[1] for i in c1_degree_sequence]"
   ]
  },
  {
   "cell_type": "code",
   "execution_count": 39,
   "metadata": {},
   "outputs": [
    {
     "data": {
      "text/plain": [
       "[('1784', 2657),\n",
       " ('4235', 2189),\n",
       " ('9820', 1649),\n",
       " ('9666', 1513),\n",
       " ('3014', 1092)]"
      ]
     },
     "execution_count": 39,
     "metadata": {},
     "output_type": "execute_result"
    }
   ],
   "source": [
    "c1_degree_sequence[0:5]"
   ]
  },
  {
   "cell_type": "code",
   "execution_count": 6,
   "metadata": {},
   "outputs": [],
   "source": [
    "c2_degree_sequence = [(n, d)  for n, d in c2.degree()]\n",
    "c2_degree_sequence.sort(key = lambda tup: tup[1], reverse = True)\n",
    "c2_degree_list = [i[1] for i in c2_degree_sequence]"
   ]
  },
  {
   "cell_type": "code",
   "execution_count": 41,
   "metadata": {},
   "outputs": [
    {
     "data": {
      "text/plain": [
       "[('1784', 2592),\n",
       " ('4235', 2226),\n",
       " ('9820', 1648),\n",
       " ('9666', 1522),\n",
       " ('3014', 1115)]"
      ]
     },
     "execution_count": 41,
     "metadata": {},
     "output_type": "execute_result"
    }
   ],
   "source": [
    "c2_degree_sequence[0:5]"
   ]
  },
  {
   "cell_type": "code",
   "execution_count": 7,
   "metadata": {},
   "outputs": [],
   "source": [
    "c3_degree_sequence = [(n, d)  for n, d in c3.degree()]\n",
    "c3_degree_sequence.sort(key = lambda tup: tup[1], reverse = True)\n",
    "c3_degree_list = [i[1] for i in c3_degree_sequence]"
   ]
  },
  {
   "cell_type": "code",
   "execution_count": 42,
   "metadata": {},
   "outputs": [
    {
     "data": {
      "text/plain": [
       "[('1784', 2521),\n",
       " ('4235', 2140),\n",
       " ('9820', 1688),\n",
       " ('9666', 1492),\n",
       " ('3014', 1133)]"
      ]
     },
     "execution_count": 42,
     "metadata": {},
     "output_type": "execute_result"
    }
   ],
   "source": [
    "c3_degree_sequence[0:5]"
   ]
  },
  {
   "cell_type": "code",
   "execution_count": 8,
   "metadata": {},
   "outputs": [],
   "source": [
    "c4_degree_sequence = [(n, d)  for n, d in c4.degree()]\n",
    "c4_degree_sequence.sort(key = lambda tup: tup[1], reverse=True)\n",
    "c4_degree_list = [i[1] for i in c4_degree_sequence]"
   ]
  },
  {
   "cell_type": "code",
   "execution_count": 43,
   "metadata": {},
   "outputs": [
    {
     "data": {
      "text/plain": [
       "[('1784', 2373),\n",
       " ('4235', 2041),\n",
       " ('9820', 1614),\n",
       " ('9666', 1429),\n",
       " ('3014', 1141)]"
      ]
     },
     "execution_count": 43,
     "metadata": {},
     "output_type": "execute_result"
    }
   ],
   "source": [
    "c4_degree_sequence[0:5]"
   ]
  },
  {
   "cell_type": "code",
   "execution_count": 9,
   "metadata": {},
   "outputs": [],
   "source": [
    "c5_degree_sequence = [(n, d)  for n, d in c5.degree()]\n",
    "c5_degree_sequence.sort(key = lambda tup: tup[1], reverse = True)\n",
    "c5_degree_list = [i[1] for i in c5_degree_sequence]"
   ]
  },
  {
   "cell_type": "code",
   "execution_count": 44,
   "metadata": {},
   "outputs": [
    {
     "data": {
      "text/plain": [
       "[('1784', 2355),\n",
       " ('4235', 2008),\n",
       " ('9820', 1518),\n",
       " ('9666', 1435),\n",
       " ('3014', 1039)]"
      ]
     },
     "execution_count": 44,
     "metadata": {},
     "output_type": "execute_result"
    }
   ],
   "source": [
    "c5_degree_sequence[0:5]"
   ]
  },
  {
   "cell_type": "code",
   "execution_count": 10,
   "metadata": {},
   "outputs": [],
   "source": [
    "c6_degree_sequence = [(n, d)  for n, d in c6.degree()]\n",
    "c6_degree_sequence.sort(key = lambda tup: tup[1], reverse = True)\n",
    "c6_degree_list = [i[1] for i in c6_degree_sequence]"
   ]
  },
  {
   "cell_type": "code",
   "execution_count": 45,
   "metadata": {},
   "outputs": [
    {
     "data": {
      "text/plain": [
       "[('1784', 2283),\n",
       " ('4235', 1926),\n",
       " ('9820', 1478),\n",
       " ('9666', 1402),\n",
       " ('3014', 1013)]"
      ]
     },
     "execution_count": 45,
     "metadata": {},
     "output_type": "execute_result"
    }
   ],
   "source": [
    "c6_degree_sequence[0:5]"
   ]
  },
  {
   "cell_type": "code",
   "execution_count": 11,
   "metadata": {},
   "outputs": [],
   "source": [
    "c7_degree_sequence = [(n, d)  for n, d in c7.degree()]\n",
    "c7_degree_sequence.sort(key = lambda tup: tup[1], reverse = True)\n",
    "c7_degree_list = [i[1] for i in c7_degree_sequence]"
   ]
  },
  {
   "cell_type": "code",
   "execution_count": 46,
   "metadata": {},
   "outputs": [
    {
     "data": {
      "text/plain": [
       "[('1784', 2245),\n",
       " ('4235', 1922),\n",
       " ('9820', 1469),\n",
       " ('9666', 1382),\n",
       " ('3014', 1020)]"
      ]
     },
     "execution_count": 46,
     "metadata": {},
     "output_type": "execute_result"
    }
   ],
   "source": [
    "c7_degree_sequence[0:5]"
   ]
  },
  {
   "cell_type": "code",
   "execution_count": 12,
   "metadata": {},
   "outputs": [],
   "source": [
    "c8_degree_sequence = [(n, d)  for n, d in c8.degree()]\n",
    "c8_degree_sequence.sort(key=lambda tup: tup[1], reverse=True)\n",
    "c8_degree_list = [i[1] for i in c8_degree_sequence]"
   ]
  },
  {
   "cell_type": "code",
   "execution_count": 47,
   "metadata": {},
   "outputs": [
    {
     "data": {
      "text/plain": [
       "[('1784', 2232), ('4235', 1893), ('9820', 1433), ('9666', 1409), ('3014', 995)]"
      ]
     },
     "execution_count": 47,
     "metadata": {},
     "output_type": "execute_result"
    }
   ],
   "source": [
    "c8_degree_sequence[0:5]"
   ]
  },
  {
   "cell_type": "code",
   "execution_count": 13,
   "metadata": {},
   "outputs": [],
   "source": [
    "c9_degree_sequence = [(n, d)  for n, d in c9.degree()]\n",
    "c9_degree_sequence.sort(key=lambda tup: tup[1], reverse=True)\n",
    "c9_degree_list = [i[1] for i in c9_degree_sequence]"
   ]
  },
  {
   "cell_type": "code",
   "execution_count": 48,
   "metadata": {},
   "outputs": [
    {
     "data": {
      "text/plain": [
       "[('1784', 2232), ('4235', 1893), ('9820', 1433), ('9666', 1409), ('3014', 995)]"
      ]
     },
     "execution_count": 48,
     "metadata": {},
     "output_type": "execute_result"
    }
   ],
   "source": [
    "c8_degree_sequence[0:5]"
   ]
  },
  {
   "cell_type": "code",
   "execution_count": 14,
   "metadata": {},
   "outputs": [],
   "source": [
    "c10_degree_sequence = [(n, d)  for n, d in c10.degree()]\n",
    "c10_degree_sequence.sort(key = lambda tup: tup[1], reverse = True)\n",
    "c10_degree_list = [i[1] for i in c10_degree_sequence]"
   ]
  },
  {
   "cell_type": "code",
   "execution_count": 50,
   "metadata": {},
   "outputs": [
    {
     "data": {
      "text/plain": [
       "[('1784', 2144), ('4235', 1835), ('9820', 1394), ('9666', 1365), ('3014', 954)]"
      ]
     },
     "execution_count": 50,
     "metadata": {},
     "output_type": "execute_result"
    }
   ],
   "source": [
    "c10_degree_sequence[0:5]"
   ]
  },
  {
   "cell_type": "code",
   "execution_count": 15,
   "metadata": {},
   "outputs": [],
   "source": [
    "c11_degree_sequence = [(n, d)  for n, d in c11.degree()]\n",
    "c11_degree_sequence.sort(key = lambda tup: tup[1], reverse = True)\n",
    "c11_degree_list = [i[1] for i in c11_degree_sequence]"
   ]
  },
  {
   "cell_type": "code",
   "execution_count": 49,
   "metadata": {},
   "outputs": [
    {
     "data": {
      "text/plain": [
       "[('1784', 2125), ('4235', 1831), ('9820', 1385), ('9666', 1356), ('3014', 959)]"
      ]
     },
     "execution_count": 49,
     "metadata": {},
     "output_type": "execute_result"
    }
   ],
   "source": [
    "c11_degree_sequence[0:5]"
   ]
  },
  {
   "cell_type": "markdown",
   "metadata": {},
   "source": [
    "### Harmonic Centrality"
   ]
  },
  {
   "cell_type": "code",
   "execution_count": 16,
   "metadata": {},
   "outputs": [],
   "source": [
    "c1_harmonic_centrality = nx.harmonic_centrality(c1)\n",
    "c1_harmonic_centrality = {k: v for k, v in sorted(c1_harmonic_centrality.items(), key = lambda item: item[1], reverse = True)}\n",
    "c1_harmonic_list = list(c1_harmonic_centrality.values())"
   ]
  },
  {
   "cell_type": "code",
   "execution_count": 69,
   "metadata": {},
   "outputs": [
    {
     "data": {
      "text/plain": [
       "{'1784': 2690.0,\n",
       " '4235': 2456.0,\n",
       " '9820': 2186.0,\n",
       " '9666': 2118.0,\n",
       " '3014': 1907.5}"
      ]
     },
     "execution_count": 69,
     "metadata": {},
     "output_type": "execute_result"
    }
   ],
   "source": [
    "dict(itertools.islice(c1_harmonic_centrality.items(), 5))# top 5"
   ]
  },
  {
   "cell_type": "code",
   "execution_count": 17,
   "metadata": {},
   "outputs": [],
   "source": [
    "c2_harmonic_centrality = nx.harmonic_centrality(c2)\n",
    "c2_harmonic_centrality = {k: v for k, v in sorted(c2_harmonic_centrality.items(), key = lambda item: item[1], reverse = True)}\n",
    "c2_harmonic_list = list(c2_harmonic_centrality.values())"
   ]
  },
  {
   "cell_type": "code",
   "execution_count": 70,
   "metadata": {},
   "outputs": [
    {
     "data": {
      "text/plain": [
       "{'1784': 2690.0,\n",
       " '4235': 2456.0,\n",
       " '9820': 2186.0,\n",
       " '9666': 2118.0,\n",
       " '3014': 1907.5}"
      ]
     },
     "execution_count": 70,
     "metadata": {},
     "output_type": "execute_result"
    }
   ],
   "source": [
    "dict(itertools.islice(c1_harmonic_centrality.items(), 5))# top 5"
   ]
  },
  {
   "cell_type": "code",
   "execution_count": 18,
   "metadata": {},
   "outputs": [],
   "source": [
    "c3_harmonic_centrality = nx.harmonic_centrality(c3)\n",
    "c3_harmonic_centrality = {k: v for k, v in sorted(c3_harmonic_centrality.items(), key = lambda item: item[1], reverse = True)}\n",
    "c3_harmonic_list = list(c3_harmonic_centrality.values())"
   ]
  },
  {
   "cell_type": "code",
   "execution_count": 71,
   "metadata": {},
   "outputs": [
    {
     "data": {
      "text/plain": [
       "{'1784': 2575.5,\n",
       " '4235': 2385.0,\n",
       " '9820': 2159.0,\n",
       " '9666': 2061.0,\n",
       " '3014': 1881.5}"
      ]
     },
     "execution_count": 71,
     "metadata": {},
     "output_type": "execute_result"
    }
   ],
   "source": [
    "dict(itertools.islice(c3_harmonic_centrality.items(), 5))# top 5"
   ]
  },
  {
   "cell_type": "code",
   "execution_count": 19,
   "metadata": {},
   "outputs": [],
   "source": [
    "c4_harmonic_centrality = nx.harmonic_centrality(c4)\n",
    "c4_harmonic_centrality = {k: v for k, v in sorted(c4_harmonic_centrality.items(), key = lambda item: item[1], reverse = True)}\n",
    "c4_harmonic_list = list(c4_harmonic_centrality.values())"
   ]
  },
  {
   "cell_type": "code",
   "execution_count": 72,
   "metadata": {},
   "outputs": [
    {
     "data": {
      "text/plain": [
       "{'1784': 2430.5,\n",
       " '4235': 2264.5,\n",
       " '9820': 2051.0,\n",
       " '9666': 1958.5,\n",
       " '3014': 1814.5}"
      ]
     },
     "execution_count": 72,
     "metadata": {},
     "output_type": "execute_result"
    }
   ],
   "source": [
    "dict(itertools.islice(c4_harmonic_centrality.items(), 5))# top 5"
   ]
  },
  {
   "cell_type": "code",
   "execution_count": 20,
   "metadata": {},
   "outputs": [],
   "source": [
    "c5_harmonic_centrality = nx.harmonic_centrality(c5)\n",
    "c5_harmonic_centrality = {k: v for k, v in sorted(c5_harmonic_centrality.items(), key = lambda item: item[1], reverse = True)}\n",
    "c5_harmonic_list = list(c5_harmonic_centrality.values())"
   ]
  },
  {
   "cell_type": "code",
   "execution_count": 73,
   "metadata": {},
   "outputs": [
    {
     "data": {
      "text/plain": [
       "{'1784': 2399.5,\n",
       " '4235': 2226.0,\n",
       " '9820': 1981.0,\n",
       " '9666': 1939.5,\n",
       " '3014': 1741.5}"
      ]
     },
     "execution_count": 73,
     "metadata": {},
     "output_type": "execute_result"
    }
   ],
   "source": [
    "dict(itertools.islice(c5_harmonic_centrality.items(), 5))# top 5"
   ]
  },
  {
   "cell_type": "code",
   "execution_count": 21,
   "metadata": {},
   "outputs": [],
   "source": [
    "c6_harmonic_centrality = nx.harmonic_centrality(c6)\n",
    "c6_harmonic_centrality = {k: v for k, v in sorted(c6_harmonic_centrality.items(), key = lambda item: item[1], reverse = True)}\n",
    "c6_harmonic_list = list(c6_harmonic_centrality.values())"
   ]
  },
  {
   "cell_type": "code",
   "execution_count": 74,
   "metadata": {},
   "outputs": [
    {
     "data": {
      "text/plain": [
       "{'1784': 2321.5,\n",
       " '4235': 2143.0,\n",
       " '9820': 1919.0,\n",
       " '9666': 1881.0,\n",
       " '3014': 1686.5}"
      ]
     },
     "execution_count": 74,
     "metadata": {},
     "output_type": "execute_result"
    }
   ],
   "source": [
    "dict(itertools.islice(c6_harmonic_centrality.items(), 5))# top 5"
   ]
  },
  {
   "cell_type": "code",
   "execution_count": 22,
   "metadata": {},
   "outputs": [],
   "source": [
    "c7_harmonic_centrality = nx.harmonic_centrality(c7)\n",
    "c7_harmonic_centrality = {k: v for k, v in sorted(c7_harmonic_centrality.items(), key = lambda item: item[1], reverse = True)}\n",
    "c7_harmonic_list = list(c7_harmonic_centrality.values())"
   ]
  },
  {
   "cell_type": "code",
   "execution_count": 75,
   "metadata": {},
   "outputs": [
    {
     "data": {
      "text/plain": [
       "{'1784': 2281.5,\n",
       " '4235': 2120.0,\n",
       " '9820': 1893.5,\n",
       " '9666': 1850.0,\n",
       " '3014': 1669.0}"
      ]
     },
     "execution_count": 75,
     "metadata": {},
     "output_type": "execute_result"
    }
   ],
   "source": [
    "dict(itertools.islice(c7_harmonic_centrality.items(), 5))# top 5"
   ]
  },
  {
   "cell_type": "code",
   "execution_count": 23,
   "metadata": {},
   "outputs": [],
   "source": [
    "c8_harmonic_centrality = nx.harmonic_centrality(c8)\n",
    "c8_harmonic_centrality = {k: v for k, v in sorted(c8_harmonic_centrality.items(), key = lambda item: item[1], reverse = True)}\n",
    "c8_harmonic_list = list(c8_harmonic_centrality.values())"
   ]
  },
  {
   "cell_type": "code",
   "execution_count": 76,
   "metadata": {},
   "outputs": [
    {
     "data": {
      "text/plain": [
       "{'1784': 2271.0,\n",
       " '4235': 2101.5,\n",
       " '9820': 1871.5,\n",
       " '9666': 1859.5,\n",
       " '3014': 1652.5}"
      ]
     },
     "execution_count": 76,
     "metadata": {},
     "output_type": "execute_result"
    }
   ],
   "source": [
    "dict(itertools.islice(c8_harmonic_centrality.items(), 5))# top 5"
   ]
  },
  {
   "cell_type": "code",
   "execution_count": 24,
   "metadata": {},
   "outputs": [],
   "source": [
    "c9_harmonic_centrality = nx.harmonic_centrality(c9)\n",
    "c9_harmonic_centrality = {k: v for k, v in sorted(c9_harmonic_centrality.items(), key = lambda item: item[1], reverse = True)}\n",
    "c9_harmonic_list = list(c9_harmonic_centrality.values())"
   ]
  },
  {
   "cell_type": "code",
   "execution_count": 77,
   "metadata": {},
   "outputs": [
    {
     "data": {
      "text/plain": [
       "{'1784': 2261.5,\n",
       " '4235': 2089.0,\n",
       " '9820': 1858.0,\n",
       " '9666': 1855.0,\n",
       " '3014': 1631.5}"
      ]
     },
     "execution_count": 77,
     "metadata": {},
     "output_type": "execute_result"
    }
   ],
   "source": [
    "dict(itertools.islice(c9_harmonic_centrality.items(), 5))# top 5"
   ]
  },
  {
   "cell_type": "code",
   "execution_count": 25,
   "metadata": {},
   "outputs": [],
   "source": [
    "c10_harmonic_centrality = nx.harmonic_centrality(c10)\n",
    "c10_harmonic_centrality = {k: v for k, v in sorted(c10_harmonic_centrality.items(), key = lambda item: item[1], reverse = True)}\n",
    "c10_harmonic_list = list(c1_harmonic_centrality.values())"
   ]
  },
  {
   "cell_type": "code",
   "execution_count": 78,
   "metadata": {},
   "outputs": [
    {
     "data": {
      "text/plain": [
       "{'1784': 2178.0,\n",
       " '4235': 2023.5,\n",
       " '9820': 1803.0,\n",
       " '9666': 1788.5,\n",
       " '3014': 1583.0}"
      ]
     },
     "execution_count": 78,
     "metadata": {},
     "output_type": "execute_result"
    }
   ],
   "source": [
    "dict(itertools.islice(c10_harmonic_centrality.items(), 5))# top 5"
   ]
  },
  {
   "cell_type": "code",
   "execution_count": 26,
   "metadata": {},
   "outputs": [],
   "source": [
    "c11_harmonic_centrality = nx.harmonic_centrality(c11)\n",
    "c11_harmonic_centrality = {k: v for k, v in sorted(c11_harmonic_centrality.items(), key = lambda item: item[1], reverse = True)}\n",
    "c11_harmonic_list = list(c1_harmonic_centrality.values())"
   ]
  },
  {
   "cell_type": "code",
   "execution_count": 79,
   "metadata": {},
   "outputs": [
    {
     "data": {
      "text/plain": [
       "{'1784': 2161.0,\n",
       " '4235': 2014.0,\n",
       " '9820': 1791.0,\n",
       " '9666': 1776.5,\n",
       " '3014': 1578.0}"
      ]
     },
     "execution_count": 79,
     "metadata": {},
     "output_type": "execute_result"
    }
   ],
   "source": [
    "dict(itertools.islice(c11_harmonic_centrality.items(), 5))# top 5"
   ]
  },
  {
   "cell_type": "markdown",
   "metadata": {},
   "source": [
    "### Betweenness Centrality"
   ]
  },
  {
   "cell_type": "code",
   "execution_count": 27,
   "metadata": {},
   "outputs": [],
   "source": [
    "c1_betweenness_centrality = nx.betweenness_centrality(c1, normalized = False)\n",
    "c1_betweenness_centrality = {k: v for k, v in sorted(c1_betweenness_centrality.items(), key = lambda item: item[1], reverse = True)}\n",
    "c1_betweenness_list = list(c1_betweenness_centrality.values())"
   ]
  },
  {
   "cell_type": "code",
   "execution_count": 63,
   "metadata": {},
   "outputs": [
    {
     "data": {
      "text/plain": [
       "{'1784': 1334081.265705856,\n",
       " '4235': 646976.1242964595,\n",
       " '9820': 296351.55380075396,\n",
       " '9666': 215901.11950003964,\n",
       " '3014': 110148.41318976562}"
      ]
     },
     "execution_count": 63,
     "metadata": {},
     "output_type": "execute_result"
    }
   ],
   "source": [
    "dict(itertools.islice(c1_betweenness_centrality.items(), 5))# top 5"
   ]
  },
  {
   "cell_type": "code",
   "execution_count": 28,
   "metadata": {},
   "outputs": [],
   "source": [
    "c2_betweenness_centrality = nx.betweenness_centrality(c2, normalized = False)\n",
    "c2_betweenness_centrality = {k: v for k, v in sorted(c2_betweenness_centrality.items(), key = lambda item: item[1], reverse = True)}\n",
    "c2_betweenness_list = list(c2_betweenness_centrality.values())"
   ]
  },
  {
   "cell_type": "code",
   "execution_count": 64,
   "metadata": {},
   "outputs": [
    {
     "data": {
      "text/plain": [
       "{'1784': 1207395.1316034594,\n",
       " '4235': 691098.6640856757,\n",
       " '9820': 299805.385398888,\n",
       " '9666': 222284.2461286027,\n",
       " '3014': 124351.0052329566}"
      ]
     },
     "execution_count": 64,
     "metadata": {},
     "output_type": "execute_result"
    }
   ],
   "source": [
    "dict(itertools.islice(c2_betweenness_centrality.items(), 5))# top 5"
   ]
  },
  {
   "cell_type": "code",
   "execution_count": 29,
   "metadata": {},
   "outputs": [],
   "source": [
    "c3_betweenness_centrality = nx.betweenness_centrality(c3, normalized = False)\n",
    "c3_betweenness_centrality = {k: v for k, v in sorted(c3_betweenness_centrality.items(), key = lambda item: item[1], reverse = True)}\n",
    "c3_betweenness_list = list(c3_betweenness_centrality.values())"
   ]
  },
  {
   "cell_type": "code",
   "execution_count": 65,
   "metadata": {},
   "outputs": [
    {
     "data": {
      "text/plain": [
       "{'1784': 1111616.2424699648,\n",
       " '4235': 608877.6258122303,\n",
       " '9820': 328680.0358005417,\n",
       " '9666': 206354.19855136678,\n",
       " '3014': 131907.07879849756}"
      ]
     },
     "execution_count": 65,
     "metadata": {},
     "output_type": "execute_result"
    }
   ],
   "source": [
    "dict(itertools.islice(c3_betweenness_centrality.items(), 5))# top 5"
   ]
  },
  {
   "cell_type": "code",
   "execution_count": 30,
   "metadata": {},
   "outputs": [],
   "source": [
    "c4_betweenness_centrality = nx.betweenness_centrality(c4, normalized = False)\n",
    "c4_betweenness_centrality = {k: v for k, v in sorted(c4_betweenness_centrality.items(), key = lambda item: item[1], reverse = True)}\n",
    "c4_betweenness_list = list(c4_betweenness_centrality.values())"
   ]
  },
  {
   "cell_type": "code",
   "execution_count": 66,
   "metadata": {},
   "outputs": [
    {
     "data": {
      "text/plain": [
       "{'1784': 948695.9371867552,\n",
       " '4235': 540338.093147703,\n",
       " '9820': 287117.79540935537,\n",
       " '9666': 179725.68496756718,\n",
       " '3014': 135185.22863447055}"
      ]
     },
     "execution_count": 66,
     "metadata": {},
     "output_type": "execute_result"
    }
   ],
   "source": [
    "dict(itertools.islice(c4_betweenness_centrality.items(), 5))# top 5"
   ]
  },
  {
   "cell_type": "code",
   "execution_count": 31,
   "metadata": {},
   "outputs": [],
   "source": [
    "c5_betweenness_centrality = nx.betweenness_centrality(c5, normalized = False)\n",
    "c5_betweenness_centrality = {k: v for k, v in sorted(c5_betweenness_centrality.items(), key = lambda item: item[1], reverse = True)}\n",
    "c5_betweenness_list = list(c5_betweenness_centrality.values())"
   ]
  },
  {
   "cell_type": "code",
   "execution_count": 67,
   "metadata": {},
   "outputs": [
    {
     "data": {
      "text/plain": [
       "{'1784': 946780.6693512537,\n",
       " '4235': 520260.9253203258,\n",
       " '9820': 236695.61793036832,\n",
       " '9666': 181743.2414599317,\n",
       " '3014': 101309.82664087237}"
      ]
     },
     "execution_count": 67,
     "metadata": {},
     "output_type": "execute_result"
    }
   ],
   "source": [
    "dict(itertools.islice(c5_betweenness_centrality.items(), 5))# top 5"
   ]
  },
  {
   "cell_type": "code",
   "execution_count": 32,
   "metadata": {},
   "outputs": [],
   "source": [
    "c6_betweenness_centrality = nx.betweenness_centrality(c6, normalized = False)\n",
    "c6_betweenness_centrality = {k: v for k, v in sorted(c6_betweenness_centrality.items(), key = lambda item: item[1], reverse = True)}\n",
    "c6_betweenness_list = list(c6_betweenness_centrality.values())"
   ]
  },
  {
   "cell_type": "code",
   "execution_count": 80,
   "metadata": {},
   "outputs": [
    {
     "data": {
      "text/plain": [
       "{'1784': 880570.6749103046,\n",
       " '4235': 455492.25838641066,\n",
       " '9820': 217301.03378917906,\n",
       " '9666': 166128.11499955214,\n",
       " '3014': 89770.68410630927}"
      ]
     },
     "execution_count": 80,
     "metadata": {},
     "output_type": "execute_result"
    }
   ],
   "source": [
    "dict(itertools.islice(c6_betweenness_centrality.items(), 5))# top 5"
   ]
  },
  {
   "cell_type": "code",
   "execution_count": 33,
   "metadata": {},
   "outputs": [],
   "source": [
    "c7_betweenness_centrality = nx.betweenness_centrality(c7, normalized = False)\n",
    "c7_betweenness_centrality = {k: v for k, v in sorted(c7_betweenness_centrality.items(), key = lambda item: item[1], reverse = True)}\n",
    "c7_betweenness_list = list(c7_betweenness_centrality.values())"
   ]
  },
  {
   "cell_type": "code",
   "execution_count": 81,
   "metadata": {},
   "outputs": [
    {
     "data": {
      "text/plain": [
       "{'1784': 833542.2038863013,\n",
       " '4235': 459253.3058704853,\n",
       " '9820': 212833.2128294846,\n",
       " '9666': 161793.10441522987,\n",
       " '3014': 90812.52179160087}"
      ]
     },
     "execution_count": 81,
     "metadata": {},
     "output_type": "execute_result"
    }
   ],
   "source": [
    "dict(itertools.islice(c7_betweenness_centrality.items(), 5))# top 5"
   ]
  },
  {
   "cell_type": "code",
   "execution_count": 34,
   "metadata": {},
   "outputs": [],
   "source": [
    "c8_betweenness_centrality = nx.betweenness_centrality(c8, normalized = False)\n",
    "c8_betweenness_centrality = {k: v for k, v in sorted(c8_betweenness_centrality.items(), key = lambda item: item[1], reverse = True)}\n",
    "c8_betweenness_list = list(c8_betweenness_centrality.values())"
   ]
  },
  {
   "cell_type": "code",
   "execution_count": 82,
   "metadata": {},
   "outputs": [
    {
     "data": {
      "text/plain": [
       "{'1784': 832310.3265840927,\n",
       " '4235': 442217.64276721963,\n",
       " '9820': 202620.4646018791,\n",
       " '9666': 173235.7196156547,\n",
       " '3014': 85066.18289448488}"
      ]
     },
     "execution_count": 82,
     "metadata": {},
     "output_type": "execute_result"
    }
   ],
   "source": [
    "dict(itertools.islice(c8_betweenness_centrality.items(), 5))# top 5"
   ]
  },
  {
   "cell_type": "code",
   "execution_count": 35,
   "metadata": {},
   "outputs": [],
   "source": [
    "c9_betweenness_centrality = nx.betweenness_centrality(c9, normalized = False)\n",
    "c9_betweenness_centrality = {k: v for k, v in sorted(c9_betweenness_centrality.items(), key = lambda item: item[1], reverse = True)}\n",
    "c9_betweenness_list = list(c9_betweenness_centrality.values())"
   ]
  },
  {
   "cell_type": "code",
   "execution_count": 83,
   "metadata": {},
   "outputs": [
    {
     "data": {
      "text/plain": [
       "{'1784': 815558.3340148317,\n",
       " '4235': 429692.53140711674,\n",
       " '9820': 192485.91131533432,\n",
       " '9666': 174603.23252721675,\n",
       " '3014': 76640.5320059465}"
      ]
     },
     "execution_count": 83,
     "metadata": {},
     "output_type": "execute_result"
    }
   ],
   "source": [
    "dict(itertools.islice(c9_betweenness_centrality.items(), 5))# top 5"
   ]
  },
  {
   "cell_type": "code",
   "execution_count": 36,
   "metadata": {},
   "outputs": [],
   "source": [
    "c10_betweenness_centrality = nx.betweenness_centrality(c10, normalized = False)\n",
    "c10_betweenness_centrality = {k: v for k, v in sorted(c10_betweenness_centrality.items(), key = lambda item: item[1], reverse = True)}\n",
    "c10_betweenness_list = list(c10_betweenness_centrality.values())"
   ]
  },
  {
   "cell_type": "code",
   "execution_count": 84,
   "metadata": {},
   "outputs": [
    {
     "data": {
      "text/plain": [
       "{'1784': 735158.5490729633,\n",
       " '4235': 403160.9832537612,\n",
       " '9820': 185181.6840606231,\n",
       " '9666': 157009.66849716395,\n",
       " '3014': 76556.44433775383}"
      ]
     },
     "execution_count": 84,
     "metadata": {},
     "output_type": "execute_result"
    }
   ],
   "source": [
    "dict(itertools.islice(c10_betweenness_centrality.items(), 5))# top 5"
   ]
  },
  {
   "cell_type": "code",
   "execution_count": 37,
   "metadata": {},
   "outputs": [],
   "source": [
    "c11_betweenness_centrality = nx.betweenness_centrality(c11, normalized = False)\n",
    "c11_betweenness_centrality = {k: v for k, v in sorted(c11_betweenness_centrality.items(), key = lambda item: item[1], reverse = True)}\n",
    "c11_betweenness_list = list(c11_betweenness_centrality.values())"
   ]
  },
  {
   "cell_type": "code",
   "execution_count": 85,
   "metadata": {},
   "outputs": [
    {
     "data": {
      "text/plain": [
       "{'1784': 712301.7712805197,\n",
       " '4235': 404934.08661772247,\n",
       " '9820': 181360.89204054003,\n",
       " '9666': 151495.84707573912,\n",
       " '3014': 78811.66366955567}"
      ]
     },
     "execution_count": 85,
     "metadata": {},
     "output_type": "execute_result"
    }
   ],
   "source": [
    "dict(itertools.islice(c11_betweenness_centrality.items(), 5))# top 5"
   ]
  },
  {
   "cell_type": "markdown",
   "metadata": {},
   "source": [
    "### Cluster 1"
   ]
  },
  {
   "cell_type": "code",
   "execution_count": 92,
   "metadata": {},
   "outputs": [],
   "source": [
    "top_5 = list(c1_betweenness_centrality.keys())[0:5]\n",
    "\n",
    "harmonic_list = []\n",
    "bet_list = []\n",
    "degree_list = []\n",
    "for i in top_5:\n",
    "    harmonic_list.append(c1_harmonic_centrality[i])\n",
    "    bet_list.append(c1_betweenness_centrality[i])\n",
    "    for j in c1_degree_sequence:\n",
    "        if i != j[0]:\n",
    "            continue\n",
    "        else:\n",
    "            degree_list.append(j[1])\n",
    "top_5 = top_5[::-1]# invertiamo l'ordine in modo da visualizzare il bar charts \"top to bottom\"\n",
    "harmonic_list = harmonic_list[::-1]\n",
    "degree_list = degree_list[::-1]\n",
    "bet_list = bet_list[::-1]"
   ]
  },
  {
   "cell_type": "code",
   "execution_count": 93,
   "metadata": {},
   "outputs": [
    {
     "data": {
      "image/png": "[encoded data removed]",
      "text/plain": [
       "<Figure size 7500x2400 with 3 Axes>"
      ]
     },
     "metadata": {
      "needs_background": "light"
     },
     "output_type": "display_data"
    }
   ],
   "source": [
    "fig = plt.figure(figsize = (25,8), dpi = 300)\n",
    "\n",
    "fontsize = 17\n",
    "plt.rcParams.update({'font.size': fontsize})\n",
    "ax = fig.add_subplot(141)\n",
    "plt.barh(top_5,harmonic_list, color = \"#CD7051\")\n",
    "plt.grid(axis='both', alpha = .3)\n",
    "\n",
    "plt.xlabel(\"Closeness Centrality\")\n",
    "\n",
    "ax2 = fig.add_subplot(142)\n",
    "plt.barh(top_5,bet_list, color = \"#710612\")\n",
    "plt.grid(axis = 'both', alpha = .3) \n",
    "plt.setp(ax2.get_yticklabels(), visible = False)\n",
    "plt.xlabel(\"Betweenness Centrality\")\n",
    "\n",
    "\n",
    "ax3 = fig.add_subplot(143) \n",
    "plt.barh(top_5,degree_list, color = '#639D7F')\n",
    "plt.grid(axis = 'both', alpha = .3)\n",
    "plt.setp(ax3.get_yticklabels(), visible = False)\n",
    "plt.xlabel(\"Degree Centrality\")\n",
    "\n",
    "plt.show()"
   ]
  },
  {
   "cell_type": "code",
   "execution_count": null,
   "metadata": {},
   "outputs": [],
   "source": []
  }
 ],
 "metadata": {
  "kernelspec": {
   "display_name": "Python 3",
   "language": "python",
   "name": "python3"
  },
  "language_info": {
   "codemirror_mode": {
    "name": "ipython",
    "version": 3
   },
   "file_extension": ".py",
   "mimetype": "text/x-python",
   "name": "python",
   "nbconvert_exporter": "python",
   "pygments_lexer": "ipython3",
   "version": "3.7.6"
  }
 },
 "nbformat": 4,
 "nbformat_minor": 4
}
