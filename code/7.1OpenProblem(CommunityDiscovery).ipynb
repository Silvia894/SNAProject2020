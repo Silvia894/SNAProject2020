{
 "cells": [
  {
   "cell_type": "code",
   "execution_count": 2,
   "metadata": {},
   "outputs": [],
   "source": [
    "import networkx as nx\n",
    "import numpy as np\n",
    "import pandas as pd\n",
    "import scipy as sp\n",
    "import matplotlib.pyplot as plt\n",
    "from matplotlib import pylab as pl\n",
    "import seaborn as sns\n",
    "import tkinter\n",
    "import matplotlib\n",
    "import collections\n",
    "import json\n",
    "import itertools\n",
    "from collections import defaultdict\n",
    "from cdlib import evaluation"
   ]
  },
  {
   "cell_type": "code",
   "execution_count": 2,
   "metadata": {},
   "outputs": [],
   "source": [
    "G = nx.read_weighted_edgelist(\"C:\\\\Users\\\\Utente\\\\Desktop\\\\finaleGiusto.csv\", delimiter = ',')"
   ]
  },
  {
   "cell_type": "code",
   "execution_count": 3,
   "metadata": {},
   "outputs": [],
   "source": [
    "# vicini del nodo Trump\n",
    "a = nx.all_neighbors(G, \"1784\")"
   ]
  },
  {
   "cell_type": "code",
   "execution_count": 4,
   "metadata": {},
   "outputs": [],
   "source": [
    "lista = []\n",
    "for i in a:\n",
    "    lista.append(i)\n",
    "lista.append(\"1784\")\n"
   ]
  },
  {
   "cell_type": "code",
   "execution_count": 5,
   "metadata": {},
   "outputs": [],
   "source": [
    "# vicini del nodo Biden\n",
    "b = nx.all_neighbors(G, \"3014\")"
   ]
  },
  {
   "cell_type": "code",
   "execution_count": 6,
   "metadata": {},
   "outputs": [],
   "source": [
    "for i in b:\n",
    "        lista.append(i)\n",
    "lista.append(\"3014\")"
   ]
  },
  {
   "cell_type": "code",
   "execution_count": 7,
   "metadata": {},
   "outputs": [],
   "source": [
    "# eliminiamo dalla lista i duplicati\n",
    "listaFinale = list(dict.fromkeys(lista))"
   ]
  },
  {
   "cell_type": "code",
   "execution_count": 9,
   "metadata": {},
   "outputs": [],
   "source": [
    "# sottografo dei nodi vicini a Trump e Biden\n",
    "Trump = G.subgraph(listaFinale)"
   ]
  },
  {
   "cell_type": "code",
   "execution_count": 3,
   "metadata": {},
   "outputs": [],
   "source": [
    "from cdlib import algorithms "
   ]
  },
  {
   "cell_type": "markdown",
   "metadata": {},
   "source": [
    "## Demon"
   ]
  },
  {
   "cell_type": "code",
   "execution_count": 11,
   "metadata": {},
   "outputs": [],
   "source": [
    "demon_coms = algorithms.demon(Trump.to_undirected(), min_com_size = 3, epsilon = 0.25)"
   ]
  },
  {
   "cell_type": "code",
   "execution_count": 12,
   "metadata": {},
   "outputs": [],
   "source": [
    "demon_evaluation_pd = pd.DataFrame(columns=[\"index\", \"min\", \"max\", \"mean\", \"std\"])"
   ]
  },
  {
   "cell_type": "code",
   "execution_count": 13,
   "metadata": {},
   "outputs": [],
   "source": [
    "demon_avg_internal_deg = np.array(evaluation.average_internal_degree(Trump,demon_coms, summary = False))\n",
    "demon_internal_edge_density = np.array(evaluation.internal_edge_density(Trump,demon_coms, summary = False))\n",
    "demon_size = np.array(evaluation.size(Trump,demon_coms, summary = False))\n",
    "demon_edges_inside = np.array(evaluation.edges_inside(Trump,demon_coms, summary = False))\n",
    "demon_cut_ratio = np.array(evaluation.cut_ratio(Trump,demon_coms, summary = False))\n",
    "demon_conductance = np.array(evaluation.conductance(Trump,demon_coms, summary = False))\n",
    "demon_modularity = np.array(evaluation.link_modularity(Trump,demon_coms, summary = False))"
   ]
  },
  {
   "cell_type": "code",
   "execution_count": 14,
   "metadata": {},
   "outputs": [
    {
     "data": {
      "text/plain": [
       "array([None, None, 0.34701336008959066, None], dtype=object)"
      ]
     },
     "execution_count": 14,
     "metadata": {},
     "output_type": "execute_result"
    }
   ],
   "source": [
    "demon_modularity"
   ]
  },
  {
   "cell_type": "code",
   "execution_count": 15,
   "metadata": {},
   "outputs": [],
   "source": [
    "demon_evaluation_pd.loc[0] = (\"Average Internal Degree\", demon_avg_internal_deg.min(), \n",
    "                         demon_avg_internal_deg.max(), \n",
    "                         demon_avg_internal_deg.mean(), \n",
    "                         demon_avg_internal_deg.std())\n",
    "demon_evaluation_pd.loc[1] = (\"Internal Edge Density\", demon_internal_edge_density.min(), \n",
    "                         demon_internal_edge_density.max(), \n",
    "                         demon_internal_edge_density.mean(), \n",
    "                         demon_internal_edge_density.std())\n",
    "demon_evaluation_pd.loc[2] = (\"Size\", demon_size.min(), \n",
    "                         demon_size.max(), \n",
    "                         demon_size.mean(), \n",
    "                         demon_size.std())\n",
    "demon_evaluation_pd.loc[3] = (\"Edges Inside\", demon_edges_inside.min(), \n",
    "                         demon_edges_inside.max(), \n",
    "                         demon_edges_inside.mean(), \n",
    "                         demon_edges_inside.std())\n",
    "demon_evaluation_pd.loc[4] = (\"Cut Ratio\", demon_cut_ratio.min(), \n",
    "                         demon_cut_ratio.max(), \n",
    "                         demon_cut_ratio.mean(), \n",
    "                         demon_cut_ratio.std())\n",
    "demon_evaluation_pd.loc[5] = (\"Conductance\", demon_conductance.min(), \n",
    "                         demon_conductance.max(), \n",
    "                         demon_conductance.mean(), \n",
    "                         demon_conductance.std())"
   ]
  },
  {
   "cell_type": "code",
   "execution_count": 16,
   "metadata": {},
   "outputs": [
    {
     "name": "stdout",
     "output_type": "stream",
     "text": [
      "Number of Communities: 11\n",
      "Number of nodes involved: 2794\n"
     ]
    }
   ],
   "source": [
    "print(\"Number of Communities: %d\"%len(demon_coms.communities))\n",
    "nodes_l = []\n",
    "for i in demon_coms.communities:\n",
    "    nodes_l += i\n",
    "nodes_l = list(set(nodes_l))\n",
    "print(\"Number of nodes involved: %d\"%len(nodes_l))"
   ]
  },
  {
   "cell_type": "code",
   "execution_count": 17,
   "metadata": {},
   "outputs": [
    {
     "data": {
      "text/html": [
       "<div>\n",
       "<style scoped>\n",
       "    .dataframe tbody tr th:only-of-type {\n",
       "        vertical-align: middle;\n",
       "    }\n",
       "\n",
       "    .dataframe tbody tr th {\n",
       "        vertical-align: top;\n",
       "    }\n",
       "\n",
       "    .dataframe thead th {\n",
       "        text-align: right;\n",
       "    }\n",
       "</style>\n",
       "<table border=\"1\" class=\"dataframe\">\n",
       "  <thead>\n",
       "    <tr style=\"text-align: right;\">\n",
       "      <th></th>\n",
       "      <th>index</th>\n",
       "      <th>min</th>\n",
       "      <th>max</th>\n",
       "      <th>mean</th>\n",
       "      <th>std</th>\n",
       "    </tr>\n",
       "  </thead>\n",
       "  <tbody>\n",
       "    <tr>\n",
       "      <th>0</th>\n",
       "      <td>Average Internal Degree</td>\n",
       "      <td>56.524745</td>\n",
       "      <td>64.006369</td>\n",
       "      <td>61.252700</td>\n",
       "      <td>2.295274</td>\n",
       "    </tr>\n",
       "    <tr>\n",
       "      <th>1</th>\n",
       "      <td>Internal Edge Density</td>\n",
       "      <td>0.005144</td>\n",
       "      <td>0.007283</td>\n",
       "      <td>0.006409</td>\n",
       "      <td>0.000649</td>\n",
       "    </tr>\n",
       "    <tr>\n",
       "      <th>2</th>\n",
       "      <td>Size</td>\n",
       "      <td>2198.000000</td>\n",
       "      <td>2748.000000</td>\n",
       "      <td>2406.636364</td>\n",
       "      <td>163.110823</td>\n",
       "    </tr>\n",
       "    <tr>\n",
       "      <th>3</th>\n",
       "      <td>Edges Inside</td>\n",
       "      <td>70343.000000</td>\n",
       "      <td>77665.000000</td>\n",
       "      <td>73519.909091</td>\n",
       "      <td>2145.837173</td>\n",
       "    </tr>\n",
       "    <tr>\n",
       "      <th>4</th>\n",
       "      <td>Cut Ratio</td>\n",
       "      <td>0.002563</td>\n",
       "      <td>0.005316</td>\n",
       "      <td>0.004324</td>\n",
       "      <td>0.000752</td>\n",
       "    </tr>\n",
       "    <tr>\n",
       "      <th>5</th>\n",
       "      <td>Conductance</td>\n",
       "      <td>0.002082</td>\n",
       "      <td>0.047166</td>\n",
       "      <td>0.027746</td>\n",
       "      <td>0.013351</td>\n",
       "    </tr>\n",
       "  </tbody>\n",
       "</table>\n",
       "</div>"
      ],
      "text/plain": [
       "                     index           min           max          mean  \\\n",
       "0  Average Internal Degree     56.524745     64.006369     61.252700   \n",
       "1    Internal Edge Density      0.005144      0.007283      0.006409   \n",
       "2                     Size   2198.000000   2748.000000   2406.636364   \n",
       "3             Edges Inside  70343.000000  77665.000000  73519.909091   \n",
       "4                Cut Ratio      0.002563      0.005316      0.004324   \n",
       "5              Conductance      0.002082      0.047166      0.027746   \n",
       "\n",
       "           std  \n",
       "0     2.295274  \n",
       "1     0.000649  \n",
       "2   163.110823  \n",
       "3  2145.837173  \n",
       "4     0.000752  \n",
       "5     0.013351  "
      ]
     },
     "execution_count": 17,
     "metadata": {},
     "output_type": "execute_result"
    }
   ],
   "source": [
    "demon_evaluation_pd"
   ]
  },
  {
   "cell_type": "markdown",
   "metadata": {},
   "source": [
    "#### Studio comunità"
   ]
  },
  {
   "cell_type": "code",
   "execution_count": 18,
   "metadata": {},
   "outputs": [],
   "source": [
    "Cluster1 = G.subgraph(demon_coms.communities[0])\n",
    "nx.write_graphml(Cluster1, \"Cluster1.graphml\")"
   ]
  },
  {
   "cell_type": "code",
   "execution_count": 32,
   "metadata": {},
   "outputs": [
    {
     "data": {
      "text/plain": [
       "2748"
      ]
     },
     "execution_count": 32,
     "metadata": {},
     "output_type": "execute_result"
    }
   ],
   "source": [
    "len(demon_coms.communities[0])"
   ]
  },
  {
   "cell_type": "code",
   "execution_count": 19,
   "metadata": {},
   "outputs": [],
   "source": [
    "Cluster2 = G.subgraph(demon_coms.communities[1])\n",
    "nx.write_graphml(Cluster2, \"Cluster2.graphml\")"
   ]
  },
  {
   "cell_type": "code",
   "execution_count": 33,
   "metadata": {},
   "outputs": [
    {
     "data": {
      "text/plain": [
       "2560"
      ]
     },
     "execution_count": 33,
     "metadata": {},
     "output_type": "execute_result"
    }
   ],
   "source": [
    "len(demon_coms.communities[1])"
   ]
  },
  {
   "cell_type": "code",
   "execution_count": 20,
   "metadata": {},
   "outputs": [],
   "source": [
    "Cluster3 = G.subgraph(demon_coms.communities[2])\n",
    "nx.write_graphml(Cluster3, \"Cluster3.graphml\")"
   ]
  },
  {
   "cell_type": "code",
   "execution_count": 34,
   "metadata": {},
   "outputs": [
    {
     "data": {
      "text/plain": [
       "2552"
      ]
     },
     "execution_count": 34,
     "metadata": {},
     "output_type": "execute_result"
    }
   ],
   "source": [
    "len(demon_coms.communities[2])"
   ]
  },
  {
   "cell_type": "code",
   "execution_count": 21,
   "metadata": {},
   "outputs": [],
   "source": [
    "Cluster4 = G.subgraph(demon_coms.communities[3])\n",
    "nx.write_graphml(Cluster4, \"Cluster4.graphml\")"
   ]
  },
  {
   "cell_type": "code",
   "execution_count": 35,
   "metadata": {},
   "outputs": [
    {
     "data": {
      "text/plain": [
       "2542"
      ]
     },
     "execution_count": 35,
     "metadata": {},
     "output_type": "execute_result"
    }
   ],
   "source": [
    "len(demon_coms.communities[3])"
   ]
  },
  {
   "cell_type": "code",
   "execution_count": 22,
   "metadata": {},
   "outputs": [],
   "source": [
    "Cluster5 = G.subgraph(demon_coms.communities[4])\n",
    "nx.write_graphml(Cluster5, \"Cluster5.graphml\")"
   ]
  },
  {
   "cell_type": "code",
   "execution_count": 36,
   "metadata": {},
   "outputs": [
    {
     "data": {
      "text/plain": [
       "2372"
      ]
     },
     "execution_count": 36,
     "metadata": {},
     "output_type": "execute_result"
    }
   ],
   "source": [
    "len(demon_coms.communities[4])"
   ]
  },
  {
   "cell_type": "code",
   "execution_count": 23,
   "metadata": {},
   "outputs": [],
   "source": [
    "Cluster6 = G.subgraph(demon_coms.communities[5])\n",
    "nx.write_graphml(Cluster6, \"Cluster6.graphml\")"
   ]
  },
  {
   "cell_type": "code",
   "execution_count": 37,
   "metadata": {},
   "outputs": [
    {
     "data": {
      "text/plain": [
       "2361"
      ]
     },
     "execution_count": 37,
     "metadata": {},
     "output_type": "execute_result"
    }
   ],
   "source": [
    "len(demon_coms.communities[5])"
   ]
  },
  {
   "cell_type": "code",
   "execution_count": 25,
   "metadata": {},
   "outputs": [],
   "source": [
    "Cluster7 = G.subgraph(demon_coms.communities[6])\n",
    "nx.write_graphml(Cluster7, \"Cluster7.graphml\")"
   ]
  },
  {
   "cell_type": "code",
   "execution_count": 38,
   "metadata": {},
   "outputs": [
    {
     "data": {
      "text/plain": [
       "2319"
      ]
     },
     "execution_count": 38,
     "metadata": {},
     "output_type": "execute_result"
    }
   ],
   "source": [
    "len(demon_coms.communities[6])"
   ]
  },
  {
   "cell_type": "code",
   "execution_count": 26,
   "metadata": {},
   "outputs": [],
   "source": [
    "Cluster8 = G.subgraph(demon_coms.communities[7])\n",
    "nx.write_graphml(Cluster8, \"Cluster8.graphml\")"
   ]
  },
  {
   "cell_type": "code",
   "execution_count": 39,
   "metadata": {},
   "outputs": [
    {
     "data": {
      "text/plain": [
       "2311"
      ]
     },
     "execution_count": 39,
     "metadata": {},
     "output_type": "execute_result"
    }
   ],
   "source": [
    "len(demon_coms.communities[7])"
   ]
  },
  {
   "cell_type": "code",
   "execution_count": 27,
   "metadata": {},
   "outputs": [],
   "source": [
    "Cluster9 = G.subgraph(demon_coms.communities[8])\n",
    "nx.write_graphml(Cluster9, \"Cluster9.graphml\")"
   ]
  },
  {
   "cell_type": "code",
   "execution_count": 41,
   "metadata": {},
   "outputs": [
    {
     "data": {
      "text/plain": [
       "2297"
      ]
     },
     "execution_count": 41,
     "metadata": {},
     "output_type": "execute_result"
    }
   ],
   "source": [
    "len(demon_coms.communities[8])"
   ]
  },
  {
   "cell_type": "code",
   "execution_count": 28,
   "metadata": {},
   "outputs": [],
   "source": [
    "Cluster10 = G.subgraph(demon_coms.communities[9])\n",
    "nx.write_graphml(Cluster10, \"Cluster10.graphml\")"
   ]
  },
  {
   "cell_type": "code",
   "execution_count": 42,
   "metadata": {},
   "outputs": [
    {
     "data": {
      "text/plain": [
       "2213"
      ]
     },
     "execution_count": 42,
     "metadata": {},
     "output_type": "execute_result"
    }
   ],
   "source": [
    "len(demon_coms.communities[9])"
   ]
  },
  {
   "cell_type": "code",
   "execution_count": 29,
   "metadata": {},
   "outputs": [],
   "source": [
    "Cluster11 = G.subgraph(demon_coms.communities[10])\n",
    "nx.write_graphml(Cluster11, \"Cluster11.graphml\")"
   ]
  },
  {
   "cell_type": "code",
   "execution_count": 43,
   "metadata": {},
   "outputs": [
    {
     "data": {
      "text/plain": [
       "2198"
      ]
     },
     "execution_count": 43,
     "metadata": {},
     "output_type": "execute_result"
    }
   ],
   "source": [
    "len(demon_coms.communities[10])"
   ]
  },
  {
   "cell_type": "code",
   "execution_count": 4,
   "metadata": {},
   "outputs": [],
   "source": [
    "Cluster1 = nx.read_graphml(r'C:\\Users\\utente\\Desktop\\openProblem\\Cluster1.graphml')\n",
    "Cluster2 = nx.read_graphml(r'C:\\Users\\utente\\Desktop\\openProblem\\Cluster2.graphml')\n",
    "Cluster3 = nx.read_graphml(r'C:\\Users\\utente\\Desktop\\openProblem\\Cluster3.graphml')\n",
    "Cluster4 = nx.read_graphml(r'C:\\Users\\utente\\Desktop\\openProblem\\Cluster4.graphml')\n",
    "Cluster5 = nx.read_graphml(r'C:\\Users\\utente\\Desktop\\openProblem\\Cluster5.graphml')\n",
    "Cluster6 = nx.read_graphml(r'C:\\Users\\utente\\Desktop\\openProblem\\Cluster6.graphml')\n",
    "Cluster7 = nx.read_graphml(r'C:\\Users\\utente\\Desktop\\openProblem\\Cluster7.graphml')\n",
    "Cluster8 = nx.read_graphml(r'C:\\Users\\utente\\Desktop\\openProblem\\Cluster8.graphml')\n",
    "Cluster9 = nx.read_graphml(r'C:\\Users\\utente\\Desktop\\openProblem\\Cluster9.graphml')\n",
    "Cluster10 = nx.read_graphml(r'C:\\Users\\utente\\Desktop\\openProblem\\Cluster10.graphml')\n",
    "Cluster11 = nx.read_graphml(r'C:\\Users\\utente\\Desktop\\openProblem\\Cluster11.graphml')"
   ]
  },
  {
   "cell_type": "markdown",
   "metadata": {},
   "source": [
    "## Greedy Modularity"
   ]
  },
  {
   "cell_type": "code",
   "execution_count": 22,
   "metadata": {},
   "outputs": [],
   "source": [
    "GM_coms = algorithms.greedy_modularity(Trump.to_undirected()) "
   ]
  },
  {
   "cell_type": "code",
   "execution_count": 23,
   "metadata": {},
   "outputs": [],
   "source": [
    "GM_evaluation_pd = pd.DataFrame(columns=[\"index\", \"min\", \"max\", \"mean\", \"std\"])"
   ]
  },
  {
   "cell_type": "code",
   "execution_count": 24,
   "metadata": {},
   "outputs": [],
   "source": [
    "GM_avg_internal_deg = np.array(evaluation.average_internal_degree(Trump,GM_coms, summary = False)) \n",
    "GM_internal_edge_density = np.array(evaluation.internal_edge_density(Trump,GM_coms, summary = False))\n",
    "GM_size = np.array(evaluation.size(Trump,GM_coms, summary = False))\n",
    "GM_edges_inside = np.array(evaluation.edges_inside(Trump,GM_coms, summary = False))\n",
    "GM_cut_ratio = np.array(evaluation.cut_ratio(Trump,GM_coms, summary = False))\n",
    "GM_conductance = np.array(evaluation.conductance(Trump,GM_coms, summary = False))"
   ]
  },
  {
   "cell_type": "code",
   "execution_count": 25,
   "metadata": {},
   "outputs": [],
   "source": [
    "GM_evaluation_pd.loc[0] = (\"Average Internal Degree\", GM_avg_internal_deg.min(), \n",
    "                         GM_avg_internal_deg.max(), \n",
    "                         GM_avg_internal_deg.mean(), \n",
    "                         GM_avg_internal_deg.std())\n",
    "GM_evaluation_pd.loc[1] = (\"Internal Edge Density\", GM_internal_edge_density.min(), \n",
    "                         GM_internal_edge_density.max(), \n",
    "                         GM_internal_edge_density.mean(), \n",
    "                         GM_internal_edge_density.std())\n",
    "GM_evaluation_pd.loc[2] = (\"Size\", GM_size.min(), \n",
    "                         GM_size.max(), \n",
    "                         GM_size.mean(), \n",
    "                         GM_size.std())\n",
    "GM_evaluation_pd.loc[3] = (\"Edges Inside\", GM_edges_inside.min(), \n",
    "                         GM_edges_inside.max(), \n",
    "                         GM_edges_inside.mean(), \n",
    "                         GM_edges_inside.std())\n",
    "GM_evaluation_pd.loc[4] = (\"Cut Ratio\", GM_cut_ratio.min(), \n",
    "                         GM_cut_ratio.max(), \n",
    "                         GM_cut_ratio.mean(), \n",
    "                         GM_cut_ratio.std())\n",
    "GM_evaluation_pd.loc[5] = (\"Conductance\", GM_conductance.min(), \n",
    "                         GM_conductance.max(), \n",
    "                         GM_conductance.mean(), \n",
    "                         GM_conductance.std())"
   ]
  },
  {
   "cell_type": "code",
   "execution_count": 26,
   "metadata": {},
   "outputs": [
    {
     "name": "stdout",
     "output_type": "stream",
     "text": [
      "Number of Communities: 2\n"
     ]
    }
   ],
   "source": [
    "print(\"Number of Communities: %d\"%len(GM_coms.communities))"
   ]
  },
  {
   "cell_type": "code",
   "execution_count": 27,
   "metadata": {},
   "outputs": [
    {
     "name": "stdout",
     "output_type": "stream",
     "text": [
      "Number of nodes involved: 2794\n"
     ]
    }
   ],
   "source": [
    "nodes_l = []\n",
    "for i in GM_coms.communities:\n",
    "    nodes_l += i\n",
    "nodes_l = list(set(nodes_l))\n",
    "print(\"Number of nodes involved: %d\"%len(nodes_l))"
   ]
  },
  {
   "cell_type": "code",
   "execution_count": 28,
   "metadata": {
    "scrolled": true
   },
   "outputs": [
    {
     "data": {
      "text/html": [
       "<div>\n",
       "<style scoped>\n",
       "    .dataframe tbody tr th:only-of-type {\n",
       "        vertical-align: middle;\n",
       "    }\n",
       "\n",
       "    .dataframe tbody tr th {\n",
       "        vertical-align: top;\n",
       "    }\n",
       "\n",
       "    .dataframe thead th {\n",
       "        text-align: right;\n",
       "    }\n",
       "</style>\n",
       "<table border=\"1\" class=\"dataframe\">\n",
       "  <thead>\n",
       "    <tr style=\"text-align: right;\">\n",
       "      <th></th>\n",
       "      <th>index</th>\n",
       "      <th>min</th>\n",
       "      <th>max</th>\n",
       "      <th>mean</th>\n",
       "      <th>std</th>\n",
       "    </tr>\n",
       "  </thead>\n",
       "  <tbody>\n",
       "    <tr>\n",
       "      <th>0</th>\n",
       "      <td>Average Internal Degree</td>\n",
       "      <td>12.000000</td>\n",
       "      <td>56.066882</td>\n",
       "      <td>34.033441</td>\n",
       "      <td>22.033441</td>\n",
       "    </tr>\n",
       "    <tr>\n",
       "      <th>1</th>\n",
       "      <td>Internal Edge Density</td>\n",
       "      <td>0.005042</td>\n",
       "      <td>0.250000</td>\n",
       "      <td>0.127521</td>\n",
       "      <td>0.122479</td>\n",
       "    </tr>\n",
       "    <tr>\n",
       "      <th>2</th>\n",
       "      <td>Size</td>\n",
       "      <td>13.000000</td>\n",
       "      <td>2781.000000</td>\n",
       "      <td>1397.000000</td>\n",
       "      <td>1384.000000</td>\n",
       "    </tr>\n",
       "    <tr>\n",
       "      <th>3</th>\n",
       "      <td>Edges Inside</td>\n",
       "      <td>78.000000</td>\n",
       "      <td>77961.000000</td>\n",
       "      <td>39019.500000</td>\n",
       "      <td>38941.500000</td>\n",
       "    </tr>\n",
       "    <tr>\n",
       "      <th>4</th>\n",
       "      <td>Cut Ratio</td>\n",
       "      <td>0.001079</td>\n",
       "      <td>0.001079</td>\n",
       "      <td>0.001079</td>\n",
       "      <td>0.000000</td>\n",
       "    </tr>\n",
       "    <tr>\n",
       "      <th>5</th>\n",
       "      <td>Conductance</td>\n",
       "      <td>0.000250</td>\n",
       "      <td>0.200000</td>\n",
       "      <td>0.100125</td>\n",
       "      <td>0.099875</td>\n",
       "    </tr>\n",
       "  </tbody>\n",
       "</table>\n",
       "</div>"
      ],
      "text/plain": [
       "                     index        min           max          mean  \\\n",
       "0  Average Internal Degree  12.000000     56.066882     34.033441   \n",
       "1    Internal Edge Density   0.005042      0.250000      0.127521   \n",
       "2                     Size  13.000000   2781.000000   1397.000000   \n",
       "3             Edges Inside  78.000000  77961.000000  39019.500000   \n",
       "4                Cut Ratio   0.001079      0.001079      0.001079   \n",
       "5              Conductance   0.000250      0.200000      0.100125   \n",
       "\n",
       "            std  \n",
       "0     22.033441  \n",
       "1      0.122479  \n",
       "2   1384.000000  \n",
       "3  38941.500000  \n",
       "4      0.000000  \n",
       "5      0.099875  "
      ]
     },
     "execution_count": 28,
     "metadata": {},
     "output_type": "execute_result"
    }
   ],
   "source": [
    "GM_evaluation_pd"
   ]
  },
  {
   "cell_type": "markdown",
   "metadata": {},
   "source": [
    "#### studio comunità"
   ]
  },
  {
   "cell_type": "code",
   "execution_count": 42,
   "metadata": {},
   "outputs": [
    {
     "name": "stdout",
     "output_type": "stream",
     "text": [
      "['6879', '11207', '17883', '1836', '18098', '10189', '19203', '14864', '4860', '6971', '7336', '152', '2251']\n"
     ]
    }
   ],
   "source": [
    "# ha individuato delle parole chiave appartenenti ad un unico articolo, e che non sono presenti (per la maggior parte) in altri\n",
    "print(GM_coms.communities[1])"
   ]
  },
  {
   "cell_type": "code",
   "execution_count": 44,
   "metadata": {
    "scrolled": false
   },
   "outputs": [
    {
     "name": "stdout",
     "output_type": "stream",
     "text": [
      "['14987', '6825', '5992', '5964', '3817', '11053', '4713', '7959', '12214', '12960', '16715', '14108', '14916', '19152', '1595', '15371', '9745', '14849', '2899', '15525', '7954', '614', '14364', '13848', '1961', '18695', '14140', '286', '103', '18107', '11729', '14285', '17492', '9965', '2983', '8964', '14625', '17682', '1425', '7025', '12953', '6774', '10428', '634', '14056', '12995', '1506', '9300', '3138', '1060', '19370', '17260', '16167', '4921', '15651', '8741', '7459', '10273', '13334', '871', '6422', '1141', '453', '18672', '5559', '11546', '8237', '138', '7273', '10135', '8629', '10859', '13805', '13621', '1045', '5567', '3634', '18189', '9521', '19063', '9142', '4581', '7854', '8790', '333', '8779', '9473', '7631', '3953', '10998', '7131', '17336', '10182', '1519', '8019', '8649', '7950', '7879', '11510', '7571', '12257', '17022', '13519', '17072', '9315', '12178', '16183', '18362', '12289', '15912', '18777', '8680', '7835', '16843', '481', '15620', '14710', '16018', '7239', '1669', '18902', '9424', '7020', '2659', '827', '6855', '7305', '13293', '6213', '1664', '10199', '5557', '5996', '7338', '2908', '1293', '13470', '16533', '5915', '5206', '13549', '8220', '1196', '13858', '3004', '9173', '5302', '10656', '13626', '123', '15100', '16086', '6167', '3512', '4767', '15492', '4076', '10045', '18808', '12168', '6266', '906', '2304', '2415', '14273', '13207', '366', '6263', '18378', '10010', '5785', '2818', '5909', '6058', '15812', '3601', '12442', '2604', '7809', '1673', '6923', '2763', '4695', '12948', '9567', '837', '10252', '5791', '7919', '13332', '16464', '16652', '2689', '14531', '4348', '8832', '8401', '11419', '5120', '8585', '16748', '5224', '13817', '10788', '2934', '9363', '8886', '16867', '17597', '5202', '786', '16506', '16458', '19355', '9821', '19162', '10965', '14818', '14506', '11006', '7593', '5251', '487', '12834', '8940', '19326', '2024', '13040', '10700', '11542', '19338', '13765', '4464', '8803', '11985', '5252', '13249', '10480', '16773', '3358', '11964', '1084', '2452', '8620', '6877', '14165', '12642', '20', '7100', '12221', '3422', '3095', '172', '1775', '13789', '2781', '12264', '1051', '9132', '8140', '7364', '19252', '6367', '16138', '5460', '3345', '16815', '6581', '18939', '6969', '17657', '2235', '585', '16808', '9511', '18536', '876', '4336', '12983', '566', '5890', '15970', '2848', '654', '6497', '18291', '5070', '8341', '1867', '1826', '8952', '14707', '5842', '2480', '15050', '17882', '12893', '4932', '9198', '10329', '13593', '8444', '1714', '5213', '1900', '17955', '19269', '15073', '17245', '7290', '2695', '5756', '11628', '3523', '14418', '14086', '8774', '11491', '9625', '1187', '15513', '2337', '14276', '18897', '14569', '12600', '16413', '2678', '17446', '2345', '5352', '9312', '16224', '2495', '3531', '18726', '2234', '8354', '7421', '17050', '8317', '444', '6765', '19094', '6659', '4822', '12165', '1612', '4109', '17135', '18630', '11407', '3916', '602', '11014', '2475', '7644', '8752', '11242', '7987', '8033', '35', '14813', '17120', '1416', '1540', '16427', '1372', '292', '15312', '9228', '895', '142', '14843', '14231', '14116', '5825', '16061', '8502', '1331', '17830', '3768', '5417', '9028', '3066', '312', '8365', '5344', '18286', '15374', '10229', '13964', '14300', '5990', '11990', '10093', '11953', '18049', '1102', '14133', '17819', '10714', '12023', '13101', '3919', '18995', '13997', '15818', '6656', '4049', '10387', '10055', '1434', '6043', '10951', '5050', '9392', '17485', '3542', '15520', '18581', '10235', '19320', '6127', '8755', '6114', '9371', '14415', '9331', '16438', '14923', '502', '532', '15718', '19027', '14722', '16851', '2349', '857', '16893', '13529', '10758', '5910', '9487', '9543', '3003', '14655', '2079', '9190', '16107', '14411', '5977', '8714', '1170', '8665', '19336', '12714', '3624', '14390', '10713', '17694', '332', '5958', '9940', '11298', '9778', '937', '14551', '13392', '10579', '11116', '1829', '7913', '18700', '1268', '7998', '1455', '6541', '12817', '3284', '2428', '16858', '3603', '18451', '5627', '6957', '17043', '13120', '1257', '19126', '5758', '4163', '2264', '655', '518', '17867', '775', '2697', '15757', '18844', '7130', '16235', '8083', '1173', '15950', '10035', '18175', '6254', '4026', '868', '12037', '3904', '12055', '9989', '18639', '14802', '2229', '4366', '11947', '12184', '3014', '12850', '14355', '301', '12426', '13348', '966', '10641', '16339', '10084', '7905', '7783', '16052', '12904', '2820', '6160', '1918', '13059', '7848', '18974', '18377', '12760', '18144', '9285', '2717', '6685', '17606', '5114', '17329', '6294', '1022', '8012', '3447', '5060', '6479', '5571', '7358', '11277', '9687', '8915', '2401', '11074', '9496', '11951', '9354', '3962', '10430', '14853', '5029', '9329', '4647', '14940', '5891', '11544', '1267', '17545', '13530', '17960', '5346', '647', '12132', '7488', '17923', '1732', '303', '6554', '5826', '3394', '16985', '243', '11087', '16752', '12011', '2134', '6096', '12039', '8600', '8670', '10757', '8907', '9372', '17623', '17414', '5872', '5752', '16795', '9598', '9137', '890', '74', '17162', '16959', '1742', '3488', '9661', '7142', '10474', '19133', '10009', '11467', '13468', '8060', '2608', '15533', '4718', '2050', '6018', '874', '17025', '1740', '386', '1563', '7466', '86', '18912', '12811', '14700', '11110', '509', '8663', '2951', '7456', '9564', '18134', '11524', '16340', '2347', '17992', '9528', '17858', '17173', '8932', '3675', '13268', '12826', '1954', '1346', '10650', '1308', '13903', '4309', '3544', '13953', '11607', '18934', '3836', '19008', '3719', '16614', '2093', '3961', '16852', '987', '17019', '10037', '12449', '17618', '14497', '4235', '17780', '17328', '18582', '14544', '8348', '8078', '17609', '3109', '15752', '12495', '14476', '12890', '11057', '18519', '7992', '14640', '12398', '14405', '5974', '7777', '15944', '9159', '8357', '414', '15069', '3933', '2019', '12611', '9483', '1371', '17095', '10605', '16612', '730', '8590', '15139', '13226', '6041', '17041', '12141', '1511', '3735', '18237', '4240', '12227', '10411', '3303', '10697', '3732', '17198', '1178', '18728', '18913', '17039', '6374', '16602', '9283', '291', '553', '4710', '12815', '14463', '14664', '2712', '13019', '6283', '17885', '3254', '11011', '14306', '1531', '6880', '18834', '14107', '16345', '6702', '945', '2914', '16049', '7409', '7738', '13951', '18921', '11825', '17297', '12455', '12566', '18113', '12787', '11638', '2682', '12099', '7672', '16713', '7126', '1831', '12845', '7708', '13642', '9913', '12548', '1399', '2416', '10393', '4047', '13279', '3106', '13518', '16330', '11203', '9815', '13138', '16079', '16922', '6626', '9833', '8120', '5522', '5630', '9069', '10113', '8397', '4863', '1407', '17933', '15629', '12173', '4250', '7077', '19278', '4467', '18257', '10580', '9083', '13109', '18387', '1844', '17628', '4340', '5480', '13371', '7457', '11255', '8719', '17781', '7125', '741', '12369', '17740', '2216', '4670', '254', '17689', '16425', '7684', '2730', '12829', '2121', '10023', '9549', '12994', '12616', '4167', '13420', '15903', '13624', '4627', '11301', '4755', '10127', '3062', '9489', '4174', '12527', '17978', '17033', '14103', '16042', '18029', '12019', '17783', '17993', '17517', '8552', '10946', '1278', '12768', '12832', '5375', '7752', '12656', '1901', '5255', '1963', '1165', '12556', '8471', '9638', '7007', '7633', '5348', '2371', '3562', '16450', '1678', '14419', '11954', '11624', '2853', '946', '3785', '209', '13820', '15242', '17777', '13507', '7244', '28', '5360', '5237', '12614', '18196', '8867', '10334', '6370', '13013', '17892', '17629', '2297', '8884', '13261', '5454', '12650', '10960', '3496', '12925', '10631', '19181', '14383', '7929', '15227', '15445', '15392', '9296', '14815', '4896', '7615', '7452', '5236', '13357', '12697', '11598', '17894', '18933', '9394', '8908', '5862', '2170', '15881', '195', '6232', '2363', '98', '18452', '7216', '8814', '9526', '5935', '5303', '10614', '1701', '18329', '5434', '791', '511', '16188', '2498', '18274', '12265', '19347', '13830', '12799', '13122', '12898', '11582', '14764', '3682', '16182', '16118', '3802', '18303', '9763', '3105', '6293', '8396', '15864', '6861', '14593', '847', '6332', '10526', '7953', '6762', '18104', '8277', '3236', '13728', '10054', '14124', '16720', '12081', '10332', '19365', '15748', '5814', '12903', '16216', '9846', '18732', '7479', '12290', '8273', '9098', '4124', '16451', '16775', '110', '10958', '1929', '8112', '3440', '480', '19318', '14645', '2246', '13443', '2188', '9665', '9771', '16595', '18969', '16554', '3130', '13930', '18784', '735', '3154', '6115', '7444', '10939', '6830', '1804', '9212', '14216', '10345', '4494', '6129', '15946', '18822', '2834', '1821', '12274', '4091', '3586', '1973', '1038', '11434', '6744', '5664', '12687', '2768', '8671', '1666', '17568', '16034', '3467', '3906', '12170', '9305', '16158', '16304', '1800', '6415', '9993', '12719', '7543', '11039', '12434', '11083', '16177', '13196', '3579', '2269', '18088', '17066', '17277', '10028', '5550', '4215', '7504', '2127', '877', '16190', '9004', '1489', '4841', '15506', '15476', '3227', '8655', '17477', '7759', '15402', '13336', '8810', '4507', '9145', '824', '7658', '1490', '663', '310', '2527', '3146', '12780', '4861', '12907', '19255', '5337', '18409', '1450', '5123', '18004', '15702', '11845', '12445', '13057', '17879', '13286', '1135', '11444', '1309', '6358', '11780', '11842', '9442', '11958', '13050', '5279', '11305', '6713', '1733', '17872', '6289', '9253', '11916', '617', '9979', '13857', '5394', '13091', '10459', '999', '14158', '1843', '12784', '15829', '5810', '17428', '2065', '19206', '2975', '5301', '18946', '8819', '6338', '14091', '365', '1523', '2702', '17905', '14714', '6658', '14626', '13741', '4620', '8287', '372', '9385', '6095', '2445', '16975', '1942', '7737', '3952', '17746', '11630', '5483', '8041', '11602', '1116', '6111', '4386', '3749', '18783', '13791', '3805', '14576', '11693', '5292', '15816', '13550', '18739', '15886', '12877', '14278', '7725', '13683', '4683', '10963', '571', '4785', '5747', '5735', '14023', '4272', '17408', '443', '14181', '2716', '510', '19364', '1886', '12655', '16380', '1439', '13503', '17355', '12144', '7375', '13950', '15240', '15229', '8334', '5086', '13608', '8445', '11483', '4229', '19275', '9053', '16838', '6451', '19154', '16964', '18079', '15088', '910', '4774', '17981', '13467', '12171', '17710', '4844', '3773', '11731', '7004', '8375', '13024', '7726', '15495', '16083', '2622', '15607', '7267', '11982', '3504', '10806', '10898', '14198', '2833', '13583', '5239', '9703', '18967', '159', '8656', '17287', '18464', '5035', '15677', '6687', '8450', '8909', '11468', '12535', '2595', '5426', '14464', '2427', '1841', '10814', '17888', '16703', '18820', '3444', '13278', '11557', '16155', '11466', '8936', '465', '5797', '8053', '14208', '6264', '13425', '11820', '4951', '1787', '14501', '4645', '15108', '8406', '11730', '15566', '11603', '13324', '14468', '6926', '4380', '1065', '18922', '15840', '1661', '15797', '818', '8749', '6205', '4313', '11704', '2711', '18272', '4829', '10718', '10106', '8157', '10952', '15815', '12570', '13928', '2166', '4365', '17364', '16312', '17585', '1326', '242', '11440', '19019', '3371', '14511', '87', '5030', '1229', '11099', '21', '2896', '778', '9779', '14163', '17174', '18570', '16777', '9092', '13402', '6571', '13256', '525', '4465', '3587', '14547', '14064', '12461', '7951', '13835', '8933', '7866', '7316', '14724', '15172', '19109', '6449', '5782', '3781', '8972', '679', '15260', '18226', '547', '7518', '436', '582', '13686', '996', '18402', '4504', '17320', '10504', '19327', '3843', '7569', '11626', '2616', '18994', '11701', '7083', '8930', '6623', '8946', '12500', '5533', '17967', '3848', '15746', '7363', '13105', '2827', '15498', '6', '16679', '15234', '10889', '15611', '9740', '10763', '8653', '15471', '12540', '17339', '7383', '903', '1532', '12489', '126', '4295', '4397', '8153', '10797', '16097', '17131', '14416', '18528', '7086', '2836', '8400', '1303', '9221', '3664', '14869', '4509', '18543', '8828', '556', '178', '452', '13565', '1302', '15329', '11022', '14046', '15530', '5300', '1043', '2736', '5602', '11612', '2242', '17021', '12947', '11158', '5534', '7956', '7411', '7334', '5811', '3073', '1764', '15863', '11911', '4957', '8589', '7840', '6466', '10438', '14347', '18687', '17378', '10967', '7862', '10569', '10961', '12692', '18830', '5850', '3869', '14851', '18980', '10856', '555', '1162', '4883', '3484', '4142', '18343', '18622', '4008', '4084', '7426', '15442', '18907', '9367', '2941', '2406', '6150', '9264', '16051', '5165', '9725', '14901', '3660', '16170', '6246', '3997', '17491', '109', '15390', '2201', '18418', '11608', '10615', '16688', '16731', '4550', '11792', '2055', '3873', '3324', '16350', '15203', '2962', '15719', '8217', '17984', '7935', '16723', '4887', '913', '8468', '15005', '14639', '4573', '13923', '1319', '1379', '1619', '14015', '16496', '3264', '10143', '5786', '17159', '7843', '733', '10377', '14572', '9181', '5546', '16154', '972', '15484', '15427', '6754', '1636', '5108', '16105', '9505', '16620', '8692', '9660', '17688', '12986', '1034', '13104', '15891', '10211', '167', '15111', '2792', '16486', '10407', '215', '18139', '11384', '11828', '15667', '10942', '14171', '4146', '12396', '11530', '4732', '9350', '17526', '2958', '11357', '1177', '11992', '4096', '11834', '15659', '16824', '15981', '13062', '16981', '1707', '9946', '19090', '17996', '10222', '11983', '15782', '8978', '1968', '12261', '11816', '6437', '2654', '18892', '5371', '16085', '19249', '16199', '5147', '2078', '4036', '11534', '9877', '14915', '1274', '17566', '1784', '5852', '7822', '7766', '17679', '14357', '7486', '8262', '17723', '11934', '8633', '17573', '18829', '14762', '15866', '5942', '11672', '2333', '13501', '18719', '11507', '2828', '10767', '14995', '6628', '14953', '5107', '5622', '6390', '14890', '2683', '14156', '16093', '273', '3910', '15867', '17551', '6498', '9444', '1277', '6558', '7983', '18504', '7790', '16933', '16525', '12324', '18214', '11066', '10813', '4160', '17637', '8574', '14581', '15216', '16874', '5259', '4587', '7103', '17452', '16269', '613', '15917', '18635', '15853', '6279', '8648', '16761', '3593', '4237', '13353', '17423', '7931', '14069', '12823', '7499', '16822', '15789', '10348', '4059', '1579', '4618', '16362', '8760', '7874', '11788', '5961', '834', '2209', '18909', '576', '7151', '3427', '8764', '7986', '5133', '14370', '12321', '17090', '8699', '6894', '4106', '10469', '18626', '2155', '606', '10201', '12326', '8286', '11940', '9831', '4458', '12234', '2205', '13742', '18566', '10949', '15786', '3651', '6020', '2525', '6138', '15186', '16366', '3229', '15742', '3404', '2961', '17605', '14579', '14359', '13071', '11138', '7400', '4136', '19340', '9523', '7605', '10983', '5245', '7505', '17687', '10943', '11494', '12543', '17827', '540', '9045', '269', '3753', '12627', '16417', '5835', '18868', '5311', '8207', '18903', '7018', '3466', '13528', '8002', '997', '14388', '7612', '615', '8950', '9808', '4044', '13343', '9441', '14026', '2227', '8903', '12381', '10394', '10761', '7251', '1321', '4484', '7997', '6897', '13079', '9244', '11118', '19120', '1327', '14528', '989', '7557', '3194', '948', '13022', '5780', '12726', '10462', '13399', '9048', '11111', '8878', '6315', '18353', '13009', '8710', '1483', '11596', '3618', '7580', '19189', '9666', '6424', '10726', '4654', '954', '13729', '18007', '6094', '338', '7150', '3408', '6844', '13587', '2549', '16353', '7700', '52', '7940', '3613', '17620', '18475', '12909', '2945', '14308', '17596', '6576', '17565', '9751', '2954', '4765', '7932', '15463', '6902', '18217', '7887', '5367', '19176', '3240', '9254', '15121', '3583', '15143', '9668', '10213', '11839', '8949', '3760', '8050', '15001', '1782', '13498', '12631', '3118', '8391', '2591', '14090', '2510', '12250', '5611', '6584', '4614', '9820', '6602', '851', '14326', '19214', '13827', '7194', '14393', '15665', '13', '8385', '16507', '10033', '4868', '6267', '4572', '3131', '8039', '5013', '4978', '8373', '5880', '7041', '1652', '278', '9762', '10295', '3368', '14380', '9934', '9223', '16560', '15569', '10136', '8141', '1130', '543', '17808', '11140', '351', '17148', '11445', '18400', '12020', '17548', '2523', '13169', '9595', '14263', '9796', '8159', '4526', '14631', '5902', '10102', '8745', '18862', '18205', '18705', '12989', '11706', '8325', '7120', '3076', '17005', '4558', '11759', '7035', '2898', '13289', '16104', '1668', '3314', '17624', '9654', '275', '11769', '9049', '15499', '5742', '3157', '13552', '13283', '7014', '11430', '13187', '16144', '3235', '19011', '15473', '15152', '2005', '10101', '9082', '16038', '15926', '12547', '10736', '11543', '8306', '3596', '2663', '9834', '9138', '4668', '18507', '2501', '10562', '505', '11031', '793', '712', '926', '18848', '16342', '4582', '3758', '17164', '10665', '11926', '14382', '9517', '176', '18316', '1168', '1617', '9024', '1718', '8508', '10343', '15519', '9037', '565', '6483', '3360', '6689', '4236', '6649', '15272', '7136', '7884', '7095', '15391', '5616', '8024', '2330', '1247', '6619', '10589', '15639', '7710', '10083', '10529', '5750', '3190', '13790', '3281', '4153', '7089', '17259', '6823', '8300', '14607', '10793', '4039', '1443', '9486', '14346', '5898', '7342', '2709', '9956', '5792', '16921', '7119', '18067', '9090', '14795', '17806', '12191', '19118', '3372', '3761', '544', '14250', '15626', '5895', '7370', '16343', '17702', '16685', '6716', '5144', '12965', '4224', '842', '7231', '16677', '7324', '10212', '19298', '12425', '14756', '8758', '15070', '3799', '15546', '13667', '4172', '12476', '7739', '9783', '9888', '9205', '9977', '6699', '15721', '6240', '16164', '8822', '15400', '10276', '15011', '11887', '1780', '18975', '5446', '3697', '12490', '4628', '10937', '2160', '14819', '4688', '1956', '1681', '19161', '5329', '1896', '18199', '6011', '1094', '12095', '16254', '3163', '3881', '10225', '7914', '11695', '1577', '1019', '10627', '2824', '5634', '17559', '18044', '14002', '14965', '14642', '7566', '7538', '17600', '17930', '13869', '19170', '5863', '14541', '3750', '3421', '10306', '9475', '3859', '15038', '6526', '7320', '5930', '1996', '12097', '1083', '527', '6669', '4419', '5761', '3380', '14439', '12412', '11817', '17136', '359', '7108', '14316', '15577', '2773', '4103', '14350', '5701', '5282', '15222', '7789', '12071', '710', '16321', '10556', '6860', '4178', '9515', '6341', '16587', '18145', '14669', '1601', '11606', '16757', '15052', '17693', '1059', '5877', '1927', '17216', '13237', '7683', '13347', '507', '3991', '1814', '13390', '16821', '15220', '2339', '11680', '16444', '4492', '3565', '16766', '11127', '13860', '13155', '13298', '4188', '4752', '15087', '13938', '4254', '11719', '6528', '15914', '13380', '1142', '12456', '3886', '18590', '19261', '6242', '18795', '10773', '8864', '14317', '19032', '13126', '4042', '10202', '19163', '1350', '2342', '14057', '16581', '12542', '18093', '3577', '3973', '2411', '11605', '13068', '11313', '16890', '17797', '3123', '6510', '7650', '9649', '12044', '9518', '2233', '6851', '8344', '12187', '4276', '14599', '18014', '1433', '18246', '11387', '12783', '1984', '9140', '13393', '2474', '4116', '6016', '981', '2105', '10088', '10250', '2263', '6970', '13217', '18742', '16886', '3561', '1785', '1643', '5892', '8055', '8891', '13017', '14779', '12439', '399', '12789', '6598', '5620', '8353', '12739', '1186', '10022', '9026', '17176', '4190', '4721', '6534', '15323', '12079', '14079', '14704', '16067', '4597', '15306', '7897', '15132', '1207', '3162', '5551', '1763', '12620', '15415', '17205', '5012', '6494', '15560', '18498', '8511', '10251', '8383', '1192', '10342', '1792', '16125', '3555', '9599', '1111', '19103', '8003', '18389', '9997', '15814', '17059', '13981', '19339', '17327', '7040', '9034', '334', '10810', '19073', '3798', '3597', '11860', '12312', '19167', '9597', '11681', '5869', '1508', '8250', '12910', '7461', '9113', '12831', '18317', '15060', '6960', '15414', '9912', '18425', '572', '7674', '6883', '13889', '6652', '17964', '19009', '8229', '14135', '153', '18758', '17655', '10453', '12541', '4434', '11793', '11786', '18554', '13649', '9325', '8263', '4515', '2684', '2481', '17235', '7944', '1480', '17675', '4265', '15061', '8193', '3449', '9573', '2830', '8423', '11923', '14283', '16358', '19303', '12938', '5084', '15541', '3611', '16962', '18766', '2032', '716', '2031', '16029', '16440', '10754', '15906', '4589', '18759', '15343', '6126', '19097', '226', '19281', '13377', '11921', '15589', '19360', '12113', '8031', '2293', '15279', '11836', '9632', '18230', '6146', '1824', '5140', '15032', '13001', '16785', '8732', '1389', '5269', '18328', '6162', '16692', '10848', '3701', '9425', '17352', '11900', '12733', '17810', '5591', '7867', '1504', '8483', '16593', '10531', '2713', '10104', '4727', '10149', '18267', '12049', '1724', '18798', '9124', '19191', '6392', '18860', '13619', '3726', '11208', '10503', '7117', '6884', '10133', '11028', '6178', '12301', '18457', '10320', '8982', '8174', '7163', '2487', '2999', '11452', '2044', '4290', '2226', '16058', '15226', '6670', '13193', '4182', '12002', '6633', '4782', '5025', '15919', '13422', '4216', '16695', '11438', '7467', '7515', '4191', '13730', '17210', '3322', '15916', '5753', '15826', '18179', '4283', '3557', '14675', '19139', '6134', '7339', '1976', '13717', '6724', '5216', '15556', '11931', '17900', '4931', '8896', '18021', '11794', '16541', '8850', '5333', '8834', '5052', '6559', '2392', '5679', '18736', '8284', '7732', '6151', '17170', '17580', '11050', '5003', '11003', '16215', '6184', '8577', '14794', '1731', '15747', '7692', '18055', '6039', '8116', '16046', '2813', '1138', '2732', '6052', '5882', '16222', '13807', '4818', '6125', '12872', '4137', '16389', '13612', '13786', '14014', '10629', '3821', '12676', '13221', '14935', '3988', '12370', '6605', '51', '3237', '11716', '315', '17747', '12269', '13557', '16539', '16196', '13942', '10047', '16590', '18242', '16062', '5715', '1923', '12443', '12036', '8465', '5579', '11981', '11089', '10619', '11901', '17909', '8730', '6846', '17158', '10100', '1214', '16973', '16354', '17237', '13562', '1471', '16820', '2522', '1817', '9186', '11260', '11238', '15036', '15125', '7116', '750', '13571', '9434', '9752', '2040', '15649', '2441', '9589', '16585', '11', '14199', '15883', '4429', '6698', '11670', '13502', '4060', '18656', '4920', '4924', '10107', '13831', '12027', '4486', '4158', '16291', '363', '3340', '13439', '14702', '3056', '2494', '18559', '2469', '6056', '4416', '14367', '10166', '2647', '2312', '18586', '8958', '13851', '2367', '4659', '3990', '19204', '7291', '4728', '19277', '8674', '13716', '4878', '3515', '13259', '6223', '18040', '8678', '8784', '575', '1134', '1412', '5805', '1543', '4866', '10153', '7922', '8539', '4846', '3699', '11529', '13316', '17300', '16202', '2991', '4681', '4351', '5944', '10186', '17069', '19128', '5899', '13874', '4954', '809', '8718', '3619', '18415', '16905', '2462', '17708', '15330', '7733', '4147', '12464', '17086', '475', '3903', '17902', '18893', '2206', '437', '10180', '4268', '8659', '12819', '90', '3907', '3359', '6081', '1567', '14374', '16619', '1857', '2238', '9708', '3048', '8337', '659', '17926', '9237', '266', '4903', '10141']\n"
     ]
    }
   ],
   "source": [
    "print(GM_coms.communities[0])"
   ]
  },
  {
   "cell_type": "code",
   "execution_count": null,
   "metadata": {},
   "outputs": [],
   "source": []
  }
 ],
 "metadata": {
  "kernelspec": {
   "display_name": "Python 3",
   "language": "python",
   "name": "python3"
  },
  "language_info": {
   "codemirror_mode": {
    "name": "ipython",
    "version": 3
   },
   "file_extension": ".py",
   "mimetype": "text/x-python",
   "name": "python",
   "nbconvert_exporter": "python",
   "pygments_lexer": "ipython3",
   "version": "3.7.6"
  }
 },
 "nbformat": 4,
 "nbformat_minor": 4
}
